{
  "nbformat": 4,
  "nbformat_minor": 0,
  "metadata": {
    "colab": {
      "provenance": [],
      "authorship_tag": "ABX9TyPGAb8cxb6w3uHLMzMXj8Yn",
      "include_colab_link": true
    },
    "kernelspec": {
      "name": "python3",
      "display_name": "Python 3"
    },
    "language_info": {
      "name": "python"
    }
  },
  "cells": [
    {
      "cell_type": "markdown",
      "metadata": {
        "id": "view-in-github",
        "colab_type": "text"
      },
      "source": [
        "<a href=\"https://colab.research.google.com/github/hoyadiya/jejumaster/blob/main/LotteryNumber.ipynb\" target=\"_parent\"><img src=\"https://colab.research.google.com/assets/colab-badge.svg\" alt=\"Open In Colab\"/></a>"
      ]
    },
    {
      "cell_type": "code",
      "execution_count": 1,
      "metadata": {
        "colab": {
          "base_uri": "https://localhost:8080/"
        },
        "id": "YvL8BTOBJ3UX",
        "outputId": "9f6e469a-5d6c-4067-db20-163f8f3fea75"
      },
      "outputs": [
        {
          "output_type": "stream",
          "name": "stdout",
          "text": [
            "로또 번호 추천:  [2, 11, 12, 26, 27, 30]\n"
          ]
        }
      ],
      "source": [
        "import random\n",
        "\n",
        "def generate_lotto_numbers():\n",
        "    lotto_numbers = random.sample(range(1, 46), 6)\n",
        "    lotto_numbers.sort()\n",
        "    return lotto_numbers\n",
        "\n",
        "if __name__ == \"__main__\":\n",
        "    numbers = generate_lotto_numbers()\n",
        "    print(\"로또 번호 추천: \", numbers)\n"
      ]
    }
  ]
}