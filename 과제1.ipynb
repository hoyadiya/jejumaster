{
  "nbformat": 4,
  "nbformat_minor": 0,
  "metadata": {
    "colab": {
      "provenance": [],
      "authorship_tag": "ABX9TyPsZogJIRgz0gRe4GPKlB7G",
      "include_colab_link": true
    },
    "kernelspec": {
      "name": "python3",
      "display_name": "Python 3"
    },
    "language_info": {
      "name": "python"
    }
  },
  "cells": [
    {
      "cell_type": "markdown",
      "metadata": {
        "id": "view-in-github",
        "colab_type": "text"
      },
      "source": [
        "<a href=\"https://colab.research.google.com/github/hoyadiya/jejumaster/blob/main/%EA%B3%BC%EC%A0%9C1.ipynb\" target=\"_parent\"><img src=\"https://colab.research.google.com/assets/colab-badge.svg\" alt=\"Open In Colab\"/></a>"
      ]
    },
    {
      "cell_type": "code",
      "execution_count": 1,
      "metadata": {
        "colab": {
          "base_uri": "https://localhost:8080/"
        },
        "id": "mhuyoG-5CfNg",
        "outputId": "aacf524a-f2f5-467f-926e-22e195ccf7fb"
      },
      "outputs": [
        {
          "output_type": "stream",
          "name": "stdout",
          "text": [
            "22\n"
          ]
        }
      ],
      "source": [
        "result = 10 + 3 * 4\n",
        "print(result)\n"
      ]
    },
    {
      "cell_type": "code",
      "source": [
        "iphone_price = 1300000\n",
        "quantity = 15\n",
        "\n",
        "total_price = iphone_price * quantity\n",
        "print(\"총 가격:\", total_price, \"원\")\n"
      ],
      "metadata": {
        "colab": {
          "base_uri": "https://localhost:8080/"
        },
        "id": "6VICl46eDEgS",
        "outputId": "2c213baa-375b-43b3-a83c-fe3ec70b0958"
      },
      "execution_count": 2,
      "outputs": [
        {
          "output_type": "stream",
          "name": "stdout",
          "text": [
            "총 가격: 19500000 원\n"
          ]
        }
      ]
    },
    {
      "cell_type": "code",
      "source": [
        "number = int(input(\"숫자를 입력하세요: \"))\n",
        "\n",
        "remainder = number % 2\n",
        "\n",
        "if remainder == 0:\n",
        "    print(number, \"는 짝수입니다.\")\n",
        "else:\n",
        "    print(number, \"는 홀수입니다.\")\n"
      ],
      "metadata": {
        "colab": {
          "base_uri": "https://localhost:8080/"
        },
        "id": "ANO3APavDWDj",
        "outputId": "194b431a-0aad-4978-ad3a-6ef130256640"
      },
      "execution_count": 3,
      "outputs": [
        {
          "output_type": "stream",
          "name": "stdout",
          "text": [
            "숫자를 입력하세요: 2\n",
            "2 는 짝수입니다.\n"
          ]
        }
      ]
    },
    {
      "cell_type": "code",
      "source": [
        "result = (2**3) * (5**4) * (3**4)\n",
        "print(\"주어진 수를 제곱 형태로 나타낸 결과:\", result)\n"
      ],
      "metadata": {
        "id": "EzzHCdUBEG9H",
        "outputId": "c7ae720d-2b23-4de9-9429-f11f38940e9f",
        "colab": {
          "base_uri": "https://localhost:8080/"
        }
      },
      "execution_count": 5,
      "outputs": [
        {
          "output_type": "stream",
          "name": "stdout",
          "text": [
            "주어진 수를 제곱 형태로 나타낸 결과: 405000\n"
          ]
        }
      ]
    }
  ]
}