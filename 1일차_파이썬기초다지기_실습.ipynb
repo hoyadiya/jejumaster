{
  "cells": [
    {
      "cell_type": "markdown",
      "metadata": {
        "id": "view-in-github",
        "colab_type": "text"
      },
      "source": [
        "<a href=\"https://colab.research.google.com/github/hoyadiya/jejumaster/blob/main/1%EC%9D%BC%EC%B0%A8_%ED%8C%8C%EC%9D%B4%EC%8D%AC%EA%B8%B0%EC%B4%88%EB%8B%A4%EC%A7%80%EA%B8%B0_%EC%8B%A4%EC%8A%B5.ipynb\" target=\"_parent\"><img src=\"https://colab.research.google.com/assets/colab-badge.svg\" alt=\"Open In Colab\"/></a>"
      ]
    },
    {
      "cell_type": "markdown",
      "metadata": {
        "id": "zRxHpy-28GGG"
      },
      "source": [
        "# 1일차-파이썬 기초 다지기"
      ]
    },
    {
      "cell_type": "markdown",
      "metadata": {
        "id": "VRVM91mPB34V"
      },
      "source": [
        "## 1.파이썬 이해하기"
      ]
    },
    {
      "cell_type": "markdown",
      "metadata": {
        "id": "hOwZhukd8GGK"
      },
      "source": [
        "### 1-2.파이썬 학습환경 만들기"
      ]
    },
    {
      "cell_type": "markdown",
      "metadata": {
        "id": "HAFtSTG28GGL"
      },
      "source": [
        "#### 파이썬 설치 위치 확인"
      ]
    },
    {
      "cell_type": "code",
      "execution_count": null,
      "metadata": {
        "id": "46cMOIHW8GGM"
      },
      "outputs": [],
      "source": [
        "import sys\n",
        "\n",
        "sys.executable"
      ]
    },
    {
      "cell_type": "code",
      "execution_count": null,
      "metadata": {
        "id": "CO9pIWvq8GGN",
        "scrolled": true
      },
      "outputs": [],
      "source": [
        "print(sys.path)"
      ]
    },
    {
      "cell_type": "markdown",
      "metadata": {
        "id": "-phEzFfX836e"
      },
      "source": [
        "#### 현재 경로"
      ]
    },
    {
      "cell_type": "code",
      "execution_count": null,
      "metadata": {
        "colab": {
          "base_uri": "https://localhost:8080/"
        },
        "id": "RuHGZ7Be88ng",
        "outputId": "b5b422b9-911f-4c65-817a-392f1dc1ea75"
      },
      "outputs": [
        {
          "name": "stdout",
          "output_type": "stream",
          "text": [
            "/content\n",
            "['.config', 'sample_data']\n",
            "/content\n"
          ]
        }
      ],
      "source": [
        "import os\n",
        "\n",
        "#현재 폴더 경로; 작업 폴더 기준\n",
        "print(os.getcwd())\n",
        "print(os.path.realpath('./'))\n",
        "\n",
        "#현재 디렉토리의 파일 리스트\n",
        "print(os.listdir(os.getcwd()))\n",
        "\n",
        "#디렉토리 변경\n",
        "# os.chdir('/')"
      ]
    },
    {
      "cell_type": "markdown",
      "metadata": {
        "id": "0ys111OTCLoc"
      },
      "source": [
        "### 1-3.파이썬 라이브러리 사용 방법"
      ]
    },
    {
      "cell_type": "markdown",
      "metadata": {
        "id": "5KtJAiS08GGO"
      },
      "source": [
        "#### 설치된 라이브러리 전체 확인"
      ]
    },
    {
      "cell_type": "code",
      "execution_count": 1,
      "metadata": {
        "id": "0bsTdq6y8GGO",
        "colab": {
          "base_uri": "https://localhost:8080/"
        },
        "outputId": "c82e0599-aaa7-4fc3-89db-ca2299a09397"
      },
      "outputs": [
        {
          "output_type": "stream",
          "name": "stdout",
          "text": [
            "Package                          Version\n",
            "-------------------------------- ---------------------\n",
            "absl-py                          1.4.0\n",
            "aiohttp                          3.8.6\n",
            "aiosignal                        1.3.1\n",
            "alabaster                        0.7.13\n",
            "albumentations                   1.3.1\n",
            "altair                           4.2.2\n",
            "anyio                            3.7.1\n",
            "appdirs                          1.4.4\n",
            "argon2-cffi                      23.1.0\n",
            "argon2-cffi-bindings             21.2.0\n",
            "array-record                     0.4.1\n",
            "arviz                            0.15.1\n",
            "astropy                          5.3.4\n",
            "astunparse                       1.6.3\n",
            "async-timeout                    4.0.3\n",
            "attrs                            23.1.0\n",
            "audioread                        3.0.1\n",
            "autograd                         1.6.2\n",
            "Babel                            2.13.0\n",
            "backcall                         0.2.0\n",
            "beautifulsoup4                   4.11.2\n",
            "bleach                           6.1.0\n",
            "blinker                          1.4\n",
            "blis                             0.7.11\n",
            "blosc2                           2.0.0\n",
            "bokeh                            3.2.2\n",
            "bqplot                           0.12.40\n",
            "branca                           0.6.0\n",
            "build                            1.0.3\n",
            "CacheControl                     0.13.1\n",
            "cachetools                       5.3.1\n",
            "catalogue                        2.0.10\n",
            "certifi                          2023.7.22\n",
            "cffi                             1.16.0\n",
            "chardet                          5.2.0\n",
            "charset-normalizer               3.3.0\n",
            "chex                             0.1.7\n",
            "click                            8.1.7\n",
            "click-plugins                    1.1.1\n",
            "cligj                            0.7.2\n",
            "cloudpickle                      2.2.1\n",
            "cmake                            3.27.6\n",
            "cmdstanpy                        1.2.0\n",
            "colorcet                         3.0.1\n",
            "colorlover                       0.3.0\n",
            "colour                           0.1.5\n",
            "community                        1.0.0b1\n",
            "confection                       0.1.3\n",
            "cons                             0.4.6\n",
            "contextlib2                      21.6.0\n",
            "contourpy                        1.1.1\n",
            "cryptography                     41.0.4\n",
            "cufflinks                        0.17.3\n",
            "cupy-cuda11x                     11.0.0\n",
            "cvxopt                           1.3.2\n",
            "cvxpy                            1.3.2\n",
            "cycler                           0.12.1\n",
            "cymem                            2.0.8\n",
            "Cython                           3.0.3\n",
            "dask                             2023.8.1\n",
            "datascience                      0.17.6\n",
            "db-dtypes                        1.1.1\n",
            "dbus-python                      1.2.18\n",
            "debugpy                          1.6.6\n",
            "decorator                        4.4.2\n",
            "defusedxml                       0.7.1\n",
            "diskcache                        5.6.3\n",
            "distributed                      2023.8.1\n",
            "distro                           1.7.0\n",
            "dlib                             19.24.2\n",
            "dm-tree                          0.1.8\n",
            "docutils                         0.18.1\n",
            "dopamine-rl                      4.0.6\n",
            "duckdb                           0.8.1\n",
            "earthengine-api                  0.1.374\n",
            "easydict                         1.10\n",
            "ecos                             2.0.12\n",
            "editdistance                     0.6.2\n",
            "eerepr                           0.0.4\n",
            "en-core-web-sm                   3.6.0\n",
            "entrypoints                      0.4\n",
            "et-xmlfile                       1.1.0\n",
            "etils                            1.5.0\n",
            "etuples                          0.3.9\n",
            "exceptiongroup                   1.1.3\n",
            "fastai                           2.7.12\n",
            "fastcore                         1.5.29\n",
            "fastdownload                     0.0.7\n",
            "fastjsonschema                   2.18.1\n",
            "fastprogress                     1.0.3\n",
            "fastrlock                        0.8.2\n",
            "filelock                         3.12.4\n",
            "Fiona                            1.9.4.post1\n",
            "firebase-admin                   5.3.0\n",
            "Flask                            2.2.5\n",
            "flatbuffers                      23.5.26\n",
            "flax                             0.7.4\n",
            "folium                           0.14.0\n",
            "fonttools                        4.43.1\n",
            "frozendict                       2.3.8\n",
            "frozenlist                       1.4.0\n",
            "fsspec                           2023.6.0\n",
            "future                           0.18.3\n",
            "gast                             0.4.0\n",
            "gcsfs                            2023.6.0\n",
            "GDAL                             3.4.3\n",
            "gdown                            4.6.6\n",
            "geemap                           0.28.2\n",
            "gensim                           4.3.2\n",
            "geocoder                         1.38.1\n",
            "geographiclib                    2.0\n",
            "geopandas                        0.13.2\n",
            "geopy                            2.3.0\n",
            "gin-config                       0.5.0\n",
            "glob2                            0.7\n",
            "google                           2.0.3\n",
            "google-api-core                  2.11.1\n",
            "google-api-python-client         2.84.0\n",
            "google-auth                      2.17.3\n",
            "google-auth-httplib2             0.1.1\n",
            "google-auth-oauthlib             1.0.0\n",
            "google-cloud-bigquery            3.10.0\n",
            "google-cloud-bigquery-connection 1.12.1\n",
            "google-cloud-bigquery-storage    2.22.0\n",
            "google-cloud-core                2.3.3\n",
            "google-cloud-datastore           2.15.2\n",
            "google-cloud-firestore           2.11.1\n",
            "google-cloud-functions           1.13.3\n",
            "google-cloud-language            2.9.1\n",
            "google-cloud-storage             2.8.0\n",
            "google-cloud-translate           3.11.3\n",
            "google-colab                     1.0.0\n",
            "google-crc32c                    1.5.0\n",
            "google-pasta                     0.2.0\n",
            "google-resumable-media           2.6.0\n",
            "googleapis-common-protos         1.60.0\n",
            "googledrivedownloader            0.4\n",
            "graphviz                         0.20.1\n",
            "greenlet                         3.0.0\n",
            "grpc-google-iam-v1               0.12.6\n",
            "grpcio                           1.59.0\n",
            "grpcio-status                    1.48.2\n",
            "gspread                          3.4.2\n",
            "gspread-dataframe                3.3.1\n",
            "gym                              0.25.2\n",
            "gym-notices                      0.0.8\n",
            "h5netcdf                         1.2.0\n",
            "h5py                             3.9.0\n",
            "holidays                         0.34\n",
            "holoviews                        1.17.1\n",
            "html5lib                         1.1\n",
            "httpimport                       1.3.1\n",
            "httplib2                         0.22.0\n",
            "humanize                         4.7.0\n",
            "hyperopt                         0.2.7\n",
            "idna                             3.4\n",
            "imageio                          2.31.5\n",
            "imageio-ffmpeg                   0.4.9\n",
            "imagesize                        1.4.1\n",
            "imbalanced-learn                 0.10.1\n",
            "imgaug                           0.4.0\n",
            "importlib-metadata               6.8.0\n",
            "importlib-resources              6.1.0\n",
            "imutils                          0.5.4\n",
            "inflect                          7.0.0\n",
            "iniconfig                        2.0.0\n",
            "install                          1.3.5\n",
            "intel-openmp                     2023.2.0\n",
            "ipyevents                        2.0.2\n",
            "ipyfilechooser                   0.6.0\n",
            "ipykernel                        5.5.6\n",
            "ipyleaflet                       0.17.4\n",
            "ipython                          7.34.0\n",
            "ipython-genutils                 0.2.0\n",
            "ipython-sql                      0.5.0\n",
            "ipytree                          0.2.2\n",
            "ipywidgets                       7.7.1\n",
            "itsdangerous                     2.1.2\n",
            "jax                              0.4.16\n",
            "jaxlib                           0.4.16+cuda11.cudnn86\n",
            "jeepney                          0.7.1\n",
            "jieba                            0.42.1\n",
            "Jinja2                           3.1.2\n",
            "joblib                           1.3.2\n",
            "jsonpickle                       3.0.2\n",
            "jsonschema                       4.19.1\n",
            "jsonschema-specifications        2023.7.1\n",
            "jupyter-client                   6.1.12\n",
            "jupyter-console                  6.1.0\n",
            "jupyter_core                     5.4.0\n",
            "jupyter-server                   1.24.0\n",
            "jupyterlab-pygments              0.2.2\n",
            "jupyterlab-widgets               3.0.9\n",
            "kaggle                           1.5.16\n",
            "keras                            2.13.1\n",
            "keyring                          23.5.0\n",
            "kiwisolver                       1.4.5\n",
            "langcodes                        3.3.0\n",
            "launchpadlib                     1.10.16\n",
            "lazr.restfulclient               0.14.4\n",
            "lazr.uri                         1.0.6\n",
            "lazy_loader                      0.3\n",
            "libclang                         16.0.6\n",
            "librosa                          0.10.1\n",
            "lida                             0.0.10\n",
            "lightgbm                         4.0.0\n",
            "linkify-it-py                    2.0.2\n",
            "lit                              17.0.2\n",
            "llmx                             0.0.15a0\n",
            "llvmlite                         0.39.1\n",
            "locket                           1.0.0\n",
            "logical-unification              0.4.6\n",
            "lxml                             4.9.3\n",
            "malloy                           2023.1056\n",
            "Markdown                         3.5\n",
            "markdown-it-py                   3.0.0\n",
            "MarkupSafe                       2.1.3\n",
            "matplotlib                       3.7.1\n",
            "matplotlib-inline                0.1.6\n",
            "matplotlib-venn                  0.11.9\n",
            "mdit-py-plugins                  0.4.0\n",
            "mdurl                            0.1.2\n",
            "miniKanren                       1.0.3\n",
            "missingno                        0.5.2\n",
            "mistune                          0.8.4\n",
            "mizani                           0.9.3\n",
            "mkl                              2023.2.0\n",
            "ml-dtypes                        0.3.1\n",
            "mlxtend                          0.22.0\n",
            "more-itertools                   10.1.0\n",
            "moviepy                          1.0.3\n",
            "mpmath                           1.3.0\n",
            "msgpack                          1.0.7\n",
            "multidict                        6.0.4\n",
            "multipledispatch                 1.0.0\n",
            "multitasking                     0.0.11\n",
            "murmurhash                       1.0.10\n",
            "music21                          9.1.0\n",
            "natsort                          8.4.0\n",
            "nbclassic                        1.0.0\n",
            "nbclient                         0.8.0\n",
            "nbconvert                        6.5.4\n",
            "nbformat                         5.9.2\n",
            "nest-asyncio                     1.5.8\n",
            "networkx                         3.1\n",
            "nibabel                          4.0.2\n",
            "nltk                             3.8.1\n",
            "notebook                         6.5.5\n",
            "notebook_shim                    0.2.3\n",
            "numba                            0.56.4\n",
            "numexpr                          2.8.7\n",
            "numpy                            1.23.5\n",
            "oauth2client                     4.1.3\n",
            "oauthlib                         3.2.2\n",
            "opencv-contrib-python            4.8.0.76\n",
            "opencv-python                    4.8.0.76\n",
            "opencv-python-headless           4.8.1.78\n",
            "openpyxl                         3.1.2\n",
            "opt-einsum                       3.3.0\n",
            "optax                            0.1.7\n",
            "orbax-checkpoint                 0.4.1\n",
            "osqp                             0.6.2.post8\n",
            "packaging                        23.2\n",
            "pandas                           1.5.3\n",
            "pandas-datareader                0.10.0\n",
            "pandas-gbq                       0.17.9\n",
            "pandas-stubs                     1.5.3.230304\n",
            "pandocfilters                    1.5.0\n",
            "panel                            1.2.3\n",
            "param                            1.13.0\n",
            "parso                            0.8.3\n",
            "partd                            1.4.1\n",
            "pathlib                          1.0.1\n",
            "pathy                            0.10.2\n",
            "patsy                            0.5.3\n",
            "peewee                           3.16.3\n",
            "pexpect                          4.8.0\n",
            "pickleshare                      0.7.5\n",
            "Pillow                           9.4.0\n",
            "pip                              23.1.2\n",
            "pip-tools                        6.13.0\n",
            "platformdirs                     3.11.0\n",
            "plotly                           5.15.0\n",
            "plotnine                         0.12.3\n",
            "pluggy                           1.3.0\n",
            "polars                           0.17.3\n",
            "pooch                            1.7.0\n",
            "portpicker                       1.5.2\n",
            "prefetch-generator               1.0.3\n",
            "preshed                          3.0.9\n",
            "prettytable                      3.9.0\n",
            "proglog                          0.1.10\n",
            "progressbar2                     4.2.0\n",
            "prometheus-client                0.17.1\n",
            "promise                          2.3\n",
            "prompt-toolkit                   3.0.39\n",
            "prophet                          1.1.5\n",
            "proto-plus                       1.22.3\n",
            "protobuf                         3.20.3\n",
            "psutil                           5.9.5\n",
            "psycopg2                         2.9.9\n",
            "ptyprocess                       0.7.0\n",
            "py-cpuinfo                       9.0.0\n",
            "py4j                             0.10.9.7\n",
            "pyarrow                          9.0.0\n",
            "pyasn1                           0.5.0\n",
            "pyasn1-modules                   0.3.0\n",
            "pycocotools                      2.0.7\n",
            "pycparser                        2.21\n",
            "pyct                             0.5.0\n",
            "pydantic                         1.10.13\n",
            "pydata-google-auth               1.8.2\n",
            "pydot                            1.4.2\n",
            "pydot-ng                         2.0.0\n",
            "pydotplus                        2.0.2\n",
            "PyDrive                          1.3.1\n",
            "PyDrive2                         1.6.3\n",
            "pyerfa                           2.0.0.3\n",
            "pygame                           2.5.2\n",
            "Pygments                         2.16.1\n",
            "PyGObject                        3.42.1\n",
            "PyJWT                            2.3.0\n",
            "pymc                             5.7.2\n",
            "pymystem3                        0.2.0\n",
            "PyOpenGL                         3.1.7\n",
            "pyOpenSSL                        23.2.0\n",
            "pyparsing                        3.1.1\n",
            "pyperclip                        1.8.2\n",
            "pyproj                           3.6.1\n",
            "pyproject_hooks                  1.0.0\n",
            "pyshp                            2.3.1\n",
            "PySocks                          1.7.1\n",
            "pytensor                         2.14.2\n",
            "pytest                           7.4.2\n",
            "python-apt                       0.0.0\n",
            "python-box                       7.1.1\n",
            "python-dateutil                  2.8.2\n",
            "python-louvain                   0.16\n",
            "python-slugify                   8.0.1\n",
            "python-utils                     3.8.1\n",
            "pytz                             2023.3.post1\n",
            "pyviz_comms                      3.0.0\n",
            "PyWavelets                       1.4.1\n",
            "PyYAML                           6.0.1\n",
            "pyzmq                            23.2.1\n",
            "qdldl                            0.1.7.post0\n",
            "qudida                           0.0.4\n",
            "ratelim                          0.1.6\n",
            "referencing                      0.30.2\n",
            "regex                            2023.6.3\n",
            "requests                         2.31.0\n",
            "requests-oauthlib                1.3.1\n",
            "requirements-parser              0.5.0\n",
            "rich                             13.6.0\n",
            "rpds-py                          0.10.4\n",
            "rpy2                             3.4.2\n",
            "rsa                              4.9\n",
            "scikit-image                     0.19.3\n",
            "scikit-learn                     1.2.2\n",
            "scipy                            1.11.3\n",
            "scooby                           0.7.4\n",
            "scs                              3.2.3\n",
            "seaborn                          0.12.2\n",
            "SecretStorage                    3.3.1\n",
            "Send2Trash                       1.8.2\n",
            "setuptools                       67.7.2\n",
            "shapely                          2.0.1\n",
            "six                              1.16.0\n",
            "sklearn-pandas                   2.2.0\n",
            "smart-open                       6.4.0\n",
            "sniffio                          1.3.0\n",
            "snowballstemmer                  2.2.0\n",
            "sortedcontainers                 2.4.0\n",
            "soundfile                        0.12.1\n",
            "soupsieve                        2.5\n",
            "soxr                             0.3.7\n",
            "spacy                            3.6.1\n",
            "spacy-legacy                     3.0.12\n",
            "spacy-loggers                    1.0.5\n",
            "Sphinx                           5.0.2\n",
            "sphinxcontrib-applehelp          1.0.7\n",
            "sphinxcontrib-devhelp            1.0.5\n",
            "sphinxcontrib-htmlhelp           2.0.4\n",
            "sphinxcontrib-jsmath             1.0.1\n",
            "sphinxcontrib-qthelp             1.0.6\n",
            "sphinxcontrib-serializinghtml    1.1.9\n",
            "SQLAlchemy                       2.0.21\n",
            "sqlparse                         0.4.4\n",
            "srsly                            2.4.8\n",
            "stanio                           0.3.0\n",
            "statsmodels                      0.14.0\n",
            "sympy                            1.12\n",
            "tables                           3.8.0\n",
            "tabulate                         0.9.0\n",
            "tbb                              2021.10.0\n",
            "tblib                            2.0.0\n",
            "tenacity                         8.2.3\n",
            "tensorboard                      2.13.0\n",
            "tensorboard-data-server          0.7.1\n",
            "tensorflow                       2.13.0\n",
            "tensorflow-datasets              4.9.3\n",
            "tensorflow-estimator             2.13.0\n",
            "tensorflow-gcs-config            2.13.0\n",
            "tensorflow-hub                   0.15.0\n",
            "tensorflow-io-gcs-filesystem     0.34.0\n",
            "tensorflow-metadata              1.14.0\n",
            "tensorflow-probability           0.20.1\n",
            "tensorstore                      0.1.45\n",
            "termcolor                        2.3.0\n",
            "terminado                        0.17.1\n",
            "text-unidecode                   1.3\n",
            "textblob                         0.17.1\n",
            "tf-slim                          1.1.0\n",
            "thinc                            8.1.12\n",
            "threadpoolctl                    3.2.0\n",
            "tifffile                         2023.9.26\n",
            "tinycss2                         1.2.1\n",
            "toml                             0.10.2\n",
            "tomli                            2.0.1\n",
            "toolz                            0.12.0\n",
            "torch                            2.0.1+cu118\n",
            "torchaudio                       2.0.2+cu118\n",
            "torchdata                        0.6.1\n",
            "torchsummary                     1.5.1\n",
            "torchtext                        0.15.2\n",
            "torchvision                      0.15.2+cu118\n",
            "tornado                          6.3.2\n",
            "tqdm                             4.66.1\n",
            "traitlets                        5.7.1\n",
            "traittypes                       0.2.1\n",
            "triton                           2.0.0\n",
            "tweepy                           4.13.0\n",
            "typer                            0.9.0\n",
            "types-pytz                       2023.3.1.1\n",
            "types-setuptools                 68.2.0.0\n",
            "typing_extensions                4.5.0\n",
            "tzlocal                          5.1\n",
            "uc-micro-py                      1.0.2\n",
            "uritemplate                      4.1.1\n",
            "urllib3                          2.0.6\n",
            "vega-datasets                    0.9.0\n",
            "wadllib                          1.3.6\n",
            "wasabi                           1.1.2\n",
            "wcwidth                          0.2.8\n",
            "webcolors                        1.13\n",
            "webencodings                     0.5.1\n",
            "websocket-client                 1.6.4\n",
            "Werkzeug                         3.0.0\n",
            "wheel                            0.41.2\n",
            "widgetsnbextension               3.6.6\n",
            "wordcloud                        1.9.2\n",
            "wrapt                            1.15.0\n",
            "xarray                           2023.7.0\n",
            "xarray-einstats                  0.6.0\n",
            "xgboost                          2.0.0\n",
            "xlrd                             2.0.1\n",
            "xyzservices                      2023.10.0\n",
            "yarl                             1.9.2\n",
            "yellowbrick                      1.5\n",
            "yfinance                         0.2.31\n",
            "zict                             3.0.0\n",
            "zipp                             3.17.0\n"
          ]
        }
      ],
      "source": [
        "pip list"
      ]
    },
    {
      "cell_type": "markdown",
      "metadata": {
        "id": "G_IjDeFh8GGP"
      },
      "source": [
        "#### 특정 라이브러리 설치 확인"
      ]
    },
    {
      "cell_type": "code",
      "execution_count": null,
      "metadata": {
        "id": "TqvE9YpV8GGP"
      },
      "outputs": [],
      "source": [
        "pip show numpy"
      ]
    },
    {
      "cell_type": "markdown",
      "metadata": {
        "id": "KE15Fd6jCbUK"
      },
      "source": [
        "#### 라이브러리 설치 및 삭제"
      ]
    },
    {
      "cell_type": "code",
      "execution_count": null,
      "metadata": {
        "id": "PlG-i1fYCbdI"
      },
      "outputs": [],
      "source": [
        "# 라이브러리 설치\n",
        "pip install numpy\n",
        "\n",
        "# 라이브러리 삭제\n",
        "# pip uninstall numpy"
      ]
    },
    {
      "cell_type": "markdown",
      "metadata": {
        "id": "6Ef7gKpD8GGP"
      },
      "source": [
        "### 수업에 사용할 라이브러리 일부 설치하기\n",
        "(PC 윈도우 명령프롬프트에서 먼저 실행) pip를 최신으로 업그레이드한 후\n",
        "파이썬 라이브러리를 설치하도록 한다.\n",
        "- python -m pip install --upgrade pip  "
      ]
    },
    {
      "cell_type": "code",
      "execution_count": null,
      "metadata": {
        "colab": {
          "base_uri": "https://localhost:8080/"
        },
        "id": "WnEwfA_x8GGQ",
        "outputId": "776d8469-56cc-4d2b-b4f4-01ca7903c04e"
      },
      "outputs": [
        {
          "name": "stdout",
          "output_type": "stream",
          "text": [
            "Requirement already satisfied: numpy in /usr/local/lib/python3.10/dist-packages (1.23.5)\n"
          ]
        }
      ],
      "source": [
        "!pip install numpy"
      ]
    },
    {
      "cell_type": "code",
      "execution_count": null,
      "metadata": {
        "id": "ZqJSQDet8GGQ"
      },
      "outputs": [],
      "source": [
        "!pip install pandas"
      ]
    },
    {
      "cell_type": "code",
      "execution_count": null,
      "metadata": {
        "id": "JtYjHD2D8GGQ"
      },
      "outputs": [],
      "source": [
        "!pip install matplotlib"
      ]
    },
    {
      "cell_type": "code",
      "execution_count": null,
      "metadata": {
        "id": "BRSzhspAC6J8"
      },
      "outputs": [],
      "source": [
        "!pip install seaborn"
      ]
    },
    {
      "cell_type": "code",
      "execution_count": null,
      "metadata": {
        "id": "8spH-HIwC6Sz"
      },
      "outputs": [],
      "source": [
        "!pip install ploty"
      ]
    },
    {
      "cell_type": "markdown",
      "metadata": {
        "id": "KstHzAdvG1Cv"
      },
      "source": [
        "### 1-4.파이썬 기초 입문하기"
      ]
    },
    {
      "cell_type": "markdown",
      "metadata": {
        "id": "KSNOrnoMHEjD"
      },
      "source": [
        "#### 파이썬 오류&예외처리"
      ]
    },
    {
      "cell_type": "code",
      "execution_count": null,
      "metadata": {
        "colab": {
          "base_uri": "https://localhost:8080/",
          "height": 146
        },
        "id": "B8pmiTi5G8JX",
        "outputId": "aa4a046e-1567-414a-83fa-c3f958e75288"
      },
      "outputs": [
        {
          "ename": "SyntaxError",
          "evalue": "ignored",
          "output_type": "error",
          "traceback": [
            "\u001b[0;36m  File \u001b[0;32m\"<ipython-input-15-280c9a905a11>\"\u001b[0;36m, line \u001b[0;32m3\u001b[0m\n\u001b[0;31m    if a < 9\u001b[0m\n\u001b[0m            ^\u001b[0m\n\u001b[0;31mSyntaxError\u001b[0m\u001b[0;31m:\u001b[0m expected ':'\n"
          ]
        }
      ],
      "source": [
        "# Syntax 오류 발생 예\n",
        "a = 1\n",
        "if a < 9\n",
        "    print('a < 9')"
      ]
    },
    {
      "cell_type": "code",
      "execution_count": null,
      "metadata": {
        "colab": {
          "base_uri": "https://localhost:8080/"
        },
        "id": "GJ1Y-0wMHXJd",
        "outputId": "57eb2417-1e49-4238-e868-46c5b5959712"
      },
      "outputs": [
        {
          "name": "stdout",
          "output_type": "stream",
          "text": [
            "Please enter a number: s\n",
            "Oops! That was no valid number. Try again...\n",
            "Please enter a number: 1\n"
          ]
        }
      ],
      "source": [
        "# 오류 예외처리\n",
        "while True:\n",
        "    try:\n",
        "        x = int(input('Please enter a number: '))\n",
        "        break\n",
        "\n",
        "    except ValueError:\n",
        "        print('Oops! That was no valid number. Try again...')\n",
        "\n",
        "print('-----')"
      ]
    },
    {
      "cell_type": "markdown",
      "metadata": {
        "id": "BVZeLUFeILol"
      },
      "source": [
        "### [실습] 파이썬 정보 확인하기\n",
        "\n",
        "\n",
        "1.   설치된 파이썬 버전 출력하기\n",
        "2.   파이썬 실행파일 위치 출력하기\n",
        "\n"
      ]
    },
    {
      "cell_type": "code",
      "execution_count": null,
      "metadata": {
        "colab": {
          "base_uri": "https://localhost:8080/"
        },
        "id": "wYTlynjPIaj4",
        "outputId": "b8c77198-7e0f-4fcc-999a-b7b438da40d8"
      },
      "outputs": [
        {
          "name": "stdout",
          "output_type": "stream",
          "text": [
            "설치된 파이썬 버전: 3.10.12 (main, Jun 11 2023, 05:26:28) [GCC 11.4.0]\n",
            "파이썬 실행파일 위치: ['/content', '/env/python', '/usr/lib/python310.zip', '/usr/lib/python3.10', '/usr/lib/python3.10/lib-dynload', '', '/usr/local/lib/python3.10/dist-packages', '/usr/lib/python3/dist-packages', '/usr/local/lib/python3.10/dist-packages/IPython/extensions', '/root/.ipython']\n"
          ]
        }
      ],
      "source": [
        "import sys\n",
        "\n",
        "print(f'설치된 파이썬 버전: {sys.version}')\n",
        "print(f'파이썬 실행파일 위치: {sys.path}')"
      ]
    },
    {
      "cell_type": "markdown",
      "metadata": {
        "id": "wl2PYxtB8GGR"
      },
      "source": [
        "----------"
      ]
    },
    {
      "cell_type": "markdown",
      "metadata": {
        "id": "T20_kqnwDKe2"
      },
      "source": [
        "## 2.파이썬 기초 다지기"
      ]
    },
    {
      "cell_type": "markdown",
      "metadata": {
        "id": "GPQdotYg8GGR"
      },
      "source": [
        "### 2-1.파이썬 자료형과 연산자"
      ]
    },
    {
      "cell_type": "markdown",
      "metadata": {
        "id": "tvdq0vw7OBaH"
      },
      "source": [
        "### **[파이썬 자료형]**"
      ]
    },
    {
      "cell_type": "markdown",
      "metadata": {
        "id": "0l4jT7BAI2_t"
      },
      "source": [
        "### [실습문제]\n",
        "\n",
        "\n",
        "-  문제1: 10 + 3 x 4 결과 출력\n",
        "- 문제2: 아이폰 15대를 가지고 있다. 아이폰의 가격이 130만원 일 때 총 금액은?\n",
        "- 문제3: 주어진 자연수가 홀수인지 짝수인지 판별하는 방법은?\n",
        "- 문제4: 2x2x2x5x5x5x5x3x3x3x3을 제곱형태로 나타낸 후 그 결과 출력하기\n",
        "\n"
      ]
    },
    {
      "cell_type": "code",
      "execution_count": null,
      "metadata": {
        "id": "F0LQlgLkI3R2"
      },
      "outputs": [],
      "source": [
        "print('문제1: 10 + 3 x 4  = ', 10 + 3 * 4)\n",
        "\n",
        "iphone = 15\n",
        "price = 1300000\n",
        "print('문제2: 아이폰 15대를 가지고 있다. 아이폰의 가격이 130만원 일 때 총 금액은? ', iphone * price)\n",
        "\n",
        "num = 5\n",
        "print('문제3: 주어진 자연수 ',num,'가 홀수인지 짝수인지 판별하는 방법은?')\n",
        "if num%2==0: print('짝수')\n",
        "else: print('홀수')\n",
        "\n",
        "print('문제4: 2x2x2x5x5x5x5x3x3x3x3을 제곱형태로 나타낸 후 그 결과 출력하기')\n",
        "print(2**3 * 5**4 * 3**4)"
      ]
    },
    {
      "cell_type": "markdown",
      "metadata": {
        "id": "rQVzLcNR8GGR"
      },
      "source": [
        "#### 파이썬 자료형 확인"
      ]
    },
    {
      "cell_type": "code",
      "execution_count": null,
      "metadata": {
        "colab": {
          "base_uri": "https://localhost:8080/"
        },
        "id": "re9ioSIM8GGR",
        "outputId": "ac0c28b3-c796-40de-b349-d6b1b8696942"
      },
      "outputs": [
        {
          "name": "stdout",
          "output_type": "stream",
          "text": [
            "123의 자료형: <class 'int'>\n",
            "123의 자료형: <class 'str'>\n",
            "[123]의 자료형: <class 'list'>\n",
            "(123,)의 자료형: <class 'tuple'>\n",
            "{'key': 123}의 자료형: <class 'dict'>\n",
            "{123}의 자료형: <class 'set'>\n",
            "True의 자료형: <class 'bool'>\n"
          ]
        }
      ],
      "source": [
        "d1 = 123\n",
        "d2 = '123'\n",
        "d3 = [123]\n",
        "d4 = (123,)\n",
        "d5 = {'key':123}\n",
        "d6 = {123}\n",
        "d7 = True\n",
        "\n",
        "print(f'{d1}의 자료형: {type(d1)}')\n",
        "print(f'{d2}의 자료형: {type(d2)}')\n",
        "print(f'{d3}의 자료형: {type(d3)}')\n",
        "print(f'{d4}의 자료형: {type(d4)}')\n",
        "print(f'{d5}의 자료형: {type(d5)}')\n",
        "print(f'{d6}의 자료형: {type(d6)}')\n",
        "print(f'{d7}의 자료형: {type(d7)}')"
      ]
    },
    {
      "cell_type": "code",
      "execution_count": null,
      "metadata": {
        "id": "gbzIvlUi8GGR",
        "scrolled": true
      },
      "outputs": [],
      "source": [
        "datas = [123,'123',[123],(123,),{'key':123},{123},True]\n",
        "\n",
        "for d in datas:\n",
        "         print(f\"데이터 '{d}' 의 자료형: {type(d)}\")"
      ]
    },
    {
      "cell_type": "markdown",
      "metadata": {
        "id": "EDFiaZyv8GGR"
      },
      "source": [
        "#### 실습문제\n",
        "두 수를 입력 받아 덧셈, 뺄셈, 곱셈, 몫, 나머지를 출력하는 프로그램을 작성하세요\n"
      ]
    },
    {
      "cell_type": "code",
      "execution_count": 2,
      "metadata": {
        "id": "a9sG7Q738GGS",
        "scrolled": true,
        "colab": {
          "base_uri": "https://localhost:8080/"
        },
        "outputId": "3a2462b1-b021-4aca-a34a-9fb20e237b6a"
      },
      "outputs": [
        {
          "output_type": "stream",
          "name": "stdout",
          "text": [
            "첫번째 숫자: 50\n",
            "두번째 숫자: 2\n",
            "------------------------------\n",
            "덧셈: 50 + 2 = 52\n",
            "뺄셈: 50 - 2 = 48\n",
            "곱셈: 50 * 2 = 100\n",
            "몫  : 50 // 2 = 25\n",
            "나머지: 50 % 2 = 0\n"
          ]
        }
      ],
      "source": [
        "num1 = input('첫번째 숫자: ')\n",
        "num2 = input('두번째 숫자: ')\n",
        "\n",
        "num1 = int(num1)\n",
        "num2 = int(num2)\n",
        "\n",
        "#print(num1)\n",
        "#print(num2)\n",
        "print('-'*30)\n",
        "print('덧셈: %d + %d = %d' % (num1,num2,num1+num2))\n",
        "print('뺄셈: %d - %d = %d' % (num1,num2,num1-num2))\n",
        "print('곱셈: %d * %d = %d' % (num1,num2,num1*num2))\n",
        "print('몫  : %d // %d = %d' % (num1,num2,num1//num2))\n",
        "print('나머지: %d %% %d = %d' % (num1,num2,num1%num2))"
      ]
    },
    {
      "cell_type": "markdown",
      "metadata": {
        "id": "13-r2xBt8GGS"
      },
      "source": [
        "#### format( ) 함수를 이용한 출력방법\n",
        "format( ) 함수와 { }를 함께 사용해서 출력하기\n"
      ]
    },
    {
      "cell_type": "code",
      "execution_count": null,
      "metadata": {
        "id": "KyJObMhd8GGS"
      },
      "outputs": [],
      "source": [
        "print( '{0:=^50}'.format( '다른 방법' ) )\n",
        "num1 = int( input( 'Input number1 : ' ) )\n",
        "num2 = int( input( 'Input number2 : ' ) )\n",
        "\n",
        "add = num1 + num2\n",
        "subtract = num1 - num2\n",
        "multiple = num1 * num2\n",
        "divide = num1 / num2\n",
        "mod = num1 % num2\n",
        "\n",
        "print()\n",
        "print( '{0:^6} + {1:^6} = {2:<6}'.format( num1, num2, add ) )\n",
        "print( '{0:^6} - {1:^6} = {2:<6}'.format( num1, num2, subtract ) )\n",
        "print( '{0:^6} * {1:^6} = {2:<6}'.format( num1, num2, multiple ) )\n",
        "print( '{0:^6} / {1:^6} = {2:<6.2f}'.format( num1, num2, divide ) )\n",
        "print( '{0:^6} % {1:^6} = {2:<6.2f}'.format( num1, num2, mod ) )"
      ]
    },
    {
      "cell_type": "markdown",
      "metadata": {
        "id": "LqAbyRHs8GGS"
      },
      "source": [
        "#### 실습문제 :  시간 계산 프로그램\n",
        "속력과 거리를 입력 받아 시간을 계산하여 출력하는 프로그램을 만드세요!\n",
        "- 시간 = 거리 / 속력\n",
        "\n"
      ]
    },
    {
      "cell_type": "code",
      "execution_count": null,
      "metadata": {
        "colab": {
          "base_uri": "https://localhost:8080/"
        },
        "id": "YwepfYt98GGS",
        "outputId": "7673e3d5-8753-4cb8-a6e3-4350c7916eaa"
      },
      "outputs": [
        {
          "name": "stdout",
          "output_type": "stream",
          "text": [
            "속력를 입력해 주세요(km/h) : 100\n",
            "거리를 입력해 주세요(km) : 340\n",
            "------------------------------\n",
            "속력 : 100.0 km/h \n",
            "거리 : 340.0 km \n",
            "시간 : 3.4 h\n"
          ]
        }
      ],
      "source": [
        "velocity = input('속력를 입력해 주세요(km/h) : ')\n",
        "distance = input('거리를 입력해 주세요(km) : ')\n",
        "\n",
        "velocity = float(velocity) # 실수 자료형으로 변환\n",
        "distance = float(distance) # 실수 자료형으로 변환\n",
        "\n",
        "print('-' * 30)\n",
        "print(f'속력 : {velocity} km/h ')\n",
        "print(f'거리 : {distance} km ')\n",
        "print(f'시간 : {distance/velocity} h')"
      ]
    },
    {
      "cell_type": "markdown",
      "metadata": {
        "id": "sHIxGA0xLj0C"
      },
      "source": [
        "- eval()함수 사용하여 문자열을 계산할 수 있다"
      ]
    },
    {
      "cell_type": "code",
      "execution_count": null,
      "metadata": {
        "colab": {
          "base_uri": "https://localhost:8080/"
        },
        "id": "gvVxuLjX8GGS",
        "outputId": "70d630a2-05ea-497f-f891-2a1488210640"
      },
      "outputs": [
        {
          "name": "stdout",
          "output_type": "stream",
          "text": [
            "3.4\n"
          ]
        }
      ],
      "source": [
        "# eval()함수 사용\n",
        "time = eval(f'{distance} / {velocity}')\n",
        "print(time)"
      ]
    },
    {
      "cell_type": "markdown",
      "metadata": {
        "id": "tECEWKan8GGS"
      },
      "source": [
        "#### 실습문제 : 정수 합 구하기\n",
        "아래와 같이 정수 n을 입력 받아, a + aa + aaa의 결과 값을 구하는 프로그램을 작성하세요"
      ]
    },
    {
      "cell_type": "code",
      "execution_count": null,
      "metadata": {
        "colab": {
          "base_uri": "https://localhost:8080/"
        },
        "id": "a04GPnn98GGS",
        "outputId": "52f6b1cf-325d-4b31-bcce-8afb6775ea03",
        "scrolled": true
      },
      "outputs": [
        {
          "name": "stdout",
          "output_type": "stream",
          "text": [
            "정수를 입력하세요: 7\n",
            "7 + 77 + 777 = 861\n"
          ]
        }
      ],
      "source": [
        "a = input('정수를 입력하세요: ')\n",
        "\n",
        "aaa = int(a+a+a)\n",
        "aa = int(a+a)\n",
        "a = int(a)\n",
        "\n",
        "print(f'{a} + {aa} + {aaa} = {a+aa+aaa}')"
      ]
    },
    {
      "cell_type": "code",
      "execution_count": null,
      "metadata": {
        "colab": {
          "base_uri": "https://localhost:8080/"
        },
        "id": "23pLknXu8GGT",
        "outputId": "60644618-a571-4f98-8969-d6f05e0c7894"
      },
      "outputs": [
        {
          "name": "stdout",
          "output_type": "stream",
          "text": [
            "정수를 입력하세요: 7\n",
            "7 + 77 + 777 = 861\n"
          ]
        }
      ],
      "source": [
        "a = input('정수를 입력하세요: ')\n",
        "k = f'{a} + {aa} + {aaa}'\n",
        "print(f\"{a} + {aa} + {aaa} = {eval(f'{a} + {aa} + {aaa}')}\")"
      ]
    },
    {
      "cell_type": "markdown",
      "metadata": {
        "id": "fCTCbmTxM-me"
      },
      "source": [
        "#### 내장 수학 함수\n",
        "- 파이썬 내장 함수 https://docs.python.org/ko/3.10/library/functions.html"
      ]
    },
    {
      "cell_type": "code",
      "execution_count": null,
      "metadata": {
        "colab": {
          "base_uri": "https://localhost:8080/"
        },
        "id": "6Edr-y4FNAzY",
        "outputId": "3e3ee2bd-7f59-43dd-cca1-e75238cb6a42"
      },
      "outputs": [
        {
          "name": "stdout",
          "output_type": "stream",
          "text": [
            "원주율: 3.141592653589793\n",
            "절대값: 10\n",
            "반올림: 1.79\n",
            "올림  : 2\n",
            "내림  : 1\n",
            "제곱  : 1024.0\n",
            "제곱근: 2.0\n",
            "로그  : 2.302585092994046\n"
          ]
        }
      ],
      "source": [
        "import math\n",
        "\n",
        "print(f'원주율: {math.pi}')\n",
        "print(f'절대값: {abs(-10)}')\n",
        "print(f'반올림: {round(1.791, 2)}')\n",
        "print(f'올림  : {math.ceil(1.7)}')\n",
        "print(f'내림  : {math.floor(1.7)}')\n",
        "print(f'제곱  : {math.pow(2, 10)}')\n",
        "print(f'제곱근: {math.sqrt(4)}')\n",
        "print(f'로그  : {math.log(10) }')"
      ]
    },
    {
      "cell_type": "markdown",
      "metadata": {
        "id": "aW7za8RUNErb"
      },
      "source": [
        "### [실습문제] : 수학 함수 사용하기\n",
        "- 문제1: 반지름이 4인 원의 넓이 출력\n",
        "- 문제2: 3.14 곱하가 2 나누기 7의 값을 반올림하여 계산 결과 출력\n",
        "- 문제3: 원주율을 3.14로 만들어서 반지름이 4인 원의 둘레의 길이 출력"
      ]
    },
    {
      "cell_type": "code",
      "execution_count": null,
      "metadata": {
        "colab": {
          "base_uri": "https://localhost:8080/"
        },
        "id": "wdpC3giLNOhp",
        "outputId": "c60dc0b3-372c-4b28-ac2d-6213acae3b59"
      },
      "outputs": [
        {
          "name": "stdout",
          "output_type": "stream",
          "text": [
            "문제1: 50.24\n",
            "문제2: 1\n",
            "문제3: 25.12\n"
          ]
        }
      ],
      "source": [
        "import math\n",
        "\n",
        "r = 4   # 반지름\n",
        "pi = 3.14   # 원주율\n",
        "\n",
        "print(f'문제1: {pi*(r**2)}')\n",
        "print(f'문제2: {round(pi*2/7)}')\n",
        "pi = round(math.pi, 2)  # 원주율\n",
        "print(f'문제3: {2*pi*r}')"
      ]
    },
    {
      "cell_type": "markdown",
      "metadata": {
        "id": "em_gXIiP8GGT"
      },
      "source": [
        "-----"
      ]
    },
    {
      "cell_type": "markdown",
      "metadata": {
        "id": "_AgpChJ_Ntbt"
      },
      "source": [
        "### **[문자와 문자열]**"
      ]
    },
    {
      "cell_type": "markdown",
      "metadata": {
        "id": "hCBT7HywOk5c"
      },
      "source": [
        "#### 문자와 문자열 변환"
      ]
    },
    {
      "cell_type": "code",
      "execution_count": null,
      "metadata": {
        "id": "D1WbhodqOrVN"
      },
      "outputs": [],
      "source": [
        "# 문자 --> 숫자(정수) 로 변환 : ord() 함수 사용\n",
        "print( ord('A') )\n",
        "print( ord('!') )\n",
        "print( ord('가') )"
      ]
    },
    {
      "cell_type": "code",
      "execution_count": null,
      "metadata": {
        "id": "xS6nc_-XOw9X"
      },
      "outputs": [],
      "source": [
        "# 숫자(정수) --> 문자 로 변환 : chr() 함수 사용\n",
        "print( chr(65) )\n",
        "print( chr(66) )\n",
        "print( chr(97) )\n",
        "print( chr(98) )\n",
        "print( chr(44032) )\n",
        "print( chr(44033) )"
      ]
    },
    {
      "cell_type": "code",
      "execution_count": null,
      "metadata": {
        "id": "_gesbU8AOzJ_"
      },
      "outputs": [],
      "source": [
        "# 문자 --> 숫자 --> 이진수 로 변환\n",
        "for c in '파이썬':\n",
        "    숫자변환 = ord(c)              # unicode\n",
        "    이진수변환 = bin(숫자변환)     # 16진수 binarycode\n",
        "    print( 이진수변환, end = ' ')  # 한 줄로 표현하기"
      ]
    },
    {
      "cell_type": "code",
      "execution_count": null,
      "metadata": {
        "id": "ZQyZdBeSOzrE"
      },
      "outputs": [],
      "source": [
        "for c in '파이썬':\n",
        "    # 이진수에서 앞'0b'를 없애기 위해 format() 함수 사용할 수 있다.\n",
        "    print( format(ord(c), 'b'), end = ' ')  # 한 줄로 표현하기"
      ]
    },
    {
      "cell_type": "markdown",
      "metadata": {
        "id": "xpJdl4QwO55X"
      },
      "source": [
        "#### 문자열 따옴표로 지정"
      ]
    },
    {
      "cell_type": "code",
      "execution_count": null,
      "metadata": {
        "id": "zl_C1UOnPC8k"
      },
      "outputs": [],
      "source": [
        "# 큰 따옴표 or 작은 따옴표로 지정한다\n",
        "print('Hello')\n",
        "print(\"Hello\")\n",
        "print(\"Hello 'world\")\n",
        "print('Hello \"world')\n",
        "print(' \"Yes, I can!\" ')"
      ]
    },
    {
      "cell_type": "code",
      "execution_count": null,
      "metadata": {
        "id": "P3Q6389qPDW6"
      },
      "outputs": [],
      "source": [
        "#따옴표 세 개 사용 : 여러 줄로 표현할 때\n",
        "a = '''박씨가 소리질렀다.\n",
        "도둑이야!'''\n",
        "print(a)"
      ]
    },
    {
      "cell_type": "code",
      "execution_count": 3,
      "metadata": {
        "id": "ZNImZioTPMTF",
        "colab": {
          "base_uri": "https://localhost:8080/"
        },
        "outputId": "dbd5152a-d34f-4acd-a794-f1e63e5c2668"
      },
      "outputs": [
        {
          "output_type": "stream",
          "name": "stdout",
          "text": [
            "OOO카페 메뉴판\n",
            "- 아메리카노:  3000원\n",
            "- 카페라테:     4000원\n",
            "- 카페모카:     5000원\n",
            "주문하실 음료를 입력하세요(ex:아메리카노) => 라떼\n",
            "라떼 몇 잔을 주문하시겠습니까?: 1\n",
            "주문하신 음료는 라떼 1 잔 입니다.\n"
          ]
        }
      ],
      "source": [
        "menu = '''OOO카페 메뉴판\n",
        "- 아메리카노:  3000원\n",
        "- 카페라테:     4000원\n",
        "- 카페모카:     5000원'''\n",
        "print(menu)\n",
        "coffee = input('주문하실 음료를 입력하세요(ex:아메리카노) => ')\n",
        "cup = input(f'{coffee} 몇 잔을 주문하시겠습니까?: ')\n",
        "\n",
        "print(f'주문하신 음료는 {coffee} {cup} 잔 입니다.')"
      ]
    },
    {
      "cell_type": "markdown",
      "metadata": {
        "id": "0hueAcbNczkD"
      },
      "source": [
        "#### 문자열 연산\n",
        "- (+): 문자열 연결하기\n",
        "- (*) : 반복의 의미"
      ]
    },
    {
      "cell_type": "code",
      "execution_count": null,
      "metadata": {
        "id": "Z5KLgMT3c5kA"
      },
      "outputs": [],
      "source": [
        "# 문자열 연결하기\n",
        "print('Hello'+'world')\n",
        "print('Hello','world', '!')\n",
        "\n",
        "a = \"Python\"\n",
        "b = \" is very fun!\"\n",
        "print(a+b)"
      ]
    },
    {
      "cell_type": "code",
      "execution_count": null,
      "metadata": {
        "id": "3CNBVzLJc53l"
      },
      "outputs": [],
      "source": [
        "# 반복의 의미\n",
        "print('Hello'*3)\n",
        "print('-' * 30)"
      ]
    },
    {
      "cell_type": "markdown",
      "metadata": {
        "id": "zGFtY_D1ckjy"
      },
      "source": [
        "### 실습문제 : 문자열 출력하기\n",
        "- 문제1: 화면에   Mary’s cosmetics   출력\n",
        "- 문제2: 화면에  박씨가 소리질렀다. “도둑이야!”.  출력\n",
        "- 문제3: 다음 코드 실행시켜서 \\t와 \\n의 역할 확인하기 <br>\n",
        "print(\"안녕하세요.\\n오늘\\t날씨가\\t\\t좋습니다.\")"
      ]
    },
    {
      "cell_type": "code",
      "source": [
        "print(\"Mary's cosmetics\")\n",
        "print('박씨가 소리질렀다. \"도둑이야!\"')"
      ],
      "metadata": {
        "colab": {
          "base_uri": "https://localhost:8080/"
        },
        "id": "A89FIfJbrRup",
        "outputId": "e1488c52-a8b7-4708-97cd-634d92f21d81"
      },
      "execution_count": 4,
      "outputs": [
        {
          "output_type": "stream",
          "name": "stdout",
          "text": [
            "Mary's cosmetics\n",
            "박씨가 소리질렀다. \"도둑이야!\"\n"
          ]
        }
      ]
    },
    {
      "cell_type": "markdown",
      "metadata": {
        "id": "r8pXLsfbcpuE"
      },
      "source": [
        "print(\"문제1: Mary’s cosmetics\")\n",
        "print('문제2: 박씨가 소리질렀다. “도둑이야!”')\n",
        "print(\"문제3: 안녕하세요.\\n오늘\\t날씨가\\t\\t좋습니다.\")"
      ]
    },
    {
      "cell_type": "markdown",
      "metadata": {
        "id": "Hb6l5EjLQB2m"
      },
      "source": [
        "### 실습문제 :  구글TTS(gTTS) 사용하여 음성 출력하기"
      ]
    },
    {
      "cell_type": "code",
      "execution_count": 5,
      "metadata": {
        "id": "-eY--f6MPwTf",
        "colab": {
          "base_uri": "https://localhost:8080/"
        },
        "outputId": "e27fda26-89d8-4957-f77a-6bf5a8020c0b"
      },
      "outputs": [
        {
          "output_type": "stream",
          "name": "stdout",
          "text": [
            "Collecting gTTS\n",
            "  Downloading gTTS-2.4.0-py3-none-any.whl (29 kB)\n",
            "Requirement already satisfied: requests<3,>=2.27 in /usr/local/lib/python3.10/dist-packages (from gTTS) (2.31.0)\n",
            "Requirement already satisfied: click<8.2,>=7.1 in /usr/local/lib/python3.10/dist-packages (from gTTS) (8.1.7)\n",
            "Requirement already satisfied: charset-normalizer<4,>=2 in /usr/local/lib/python3.10/dist-packages (from requests<3,>=2.27->gTTS) (3.3.0)\n",
            "Requirement already satisfied: idna<4,>=2.5 in /usr/local/lib/python3.10/dist-packages (from requests<3,>=2.27->gTTS) (3.4)\n",
            "Requirement already satisfied: urllib3<3,>=1.21.1 in /usr/local/lib/python3.10/dist-packages (from requests<3,>=2.27->gTTS) (2.0.6)\n",
            "Requirement already satisfied: certifi>=2017.4.17 in /usr/local/lib/python3.10/dist-packages (from requests<3,>=2.27->gTTS) (2023.7.22)\n",
            "Installing collected packages: gTTS\n",
            "Successfully installed gTTS-2.4.0\n"
          ]
        }
      ],
      "source": [
        "# 구글 tts 프로그램\n",
        "!pip install gTTS"
      ]
    },
    {
      "cell_type": "code",
      "execution_count": 6,
      "metadata": {
        "colab": {
          "base_uri": "https://localhost:8080/",
          "height": 74
        },
        "id": "O_xqpl0pPx6k",
        "outputId": "91ee7e1a-81b2-4c1c-a095-9f19b7f67451"
      },
      "outputs": [
        {
          "output_type": "display_data",
          "data": {
            "text/plain": [
              "<IPython.lib.display.Audio object>"
            ],
            "text/html": [
              "\n",
              "                <audio  controls=\"controls\" autoplay=\"autoplay\">\n",
              "                    <source src=\"data:audio/x-wav;base64,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\" type=\"audio/x-wav\" />\n",
              "                    Your browser does not support the audio element.\n",
              "                </audio>\n",
              "              "
            ]
          },
          "metadata": {}
        }
      ],
      "source": [
        "# 영어 출력\n",
        "from gtts import gTTS\n",
        "from IPython.display import Audio\n",
        "\n",
        "eng_wav = gTTS('Hello World!')\n",
        "eng_wav.save('eng.wav')\n",
        "\n",
        "display(Audio('eng.wav', autoplay=True))"
      ]
    },
    {
      "cell_type": "code",
      "execution_count": 7,
      "metadata": {
        "colab": {
          "base_uri": "https://localhost:8080/",
          "height": 74
        },
        "id": "inyZATWlP3Cp",
        "outputId": "4055319a-68f2-4f3f-a128-7858953c4931"
      },
      "outputs": [
        {
          "output_type": "display_data",
          "data": {
            "text/plain": [
              "<IPython.lib.display.Audio object>"
            ],
            "text/html": [
              "\n",
              "                <audio  controls=\"controls\" autoplay=\"autoplay\">\n",
              "                    <source src=\"data:audio/x-wav;base64,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\" type=\"audio/x-wav\" />\n",
              "                    Your browser does not support the audio element.\n",
              "                </audio>\n",
              "              "
            ]
          },
          "metadata": {}
        }
      ],
      "source": [
        "# 한글 출력\n",
        "from gtts import gTTS\n",
        "from IPython.display import Audio\n",
        "\n",
        "kor_wav = gTTS('안녕하세요! ', lang = 'ko')\n",
        "kor_wav.save('kor.wav')\n",
        "\n",
        "display(Audio('kor.wav', autoplay=True))"
      ]
    },
    {
      "cell_type": "code",
      "execution_count": 10,
      "metadata": {
        "colab": {
          "base_uri": "https://localhost:8080/",
          "height": 571
        },
        "id": "LL9LBIfPUS1-",
        "outputId": "970e8c88-fb80-4eba-ae92-86ae9197f7ab"
      },
      "outputs": [
        {
          "output_type": "stream",
          "name": "stdout",
          "text": [
            "13인의 아해가 도로로 질주하오.\n",
            "(같은 막다른 골목이 적당하오.)\n",
            "\n",
            "\n",
            "제 1의 아해가 무섭다고 그리오.\n",
            "제 2의 아해가 무섭다고 그리오.\n",
            "제 3의 아해가 무섭다고 그리오.\n",
            "제 4의 아해가 무섭다고 그리오.\n",
            "제 5의 아해가 무섭다고 그리오.\n",
            "제 6의 아해가 무섭다고 그리오.\n",
            "제 7의 아해가 무섭다고 그리오.\n",
            "제 8의 아해가 무섭다고 그리오.\n",
            "제 9의 아해가 무섭다고 그리오.\n",
            "제 10의 아해가 무섭다고 그리오.\n",
            "\n",
            "제 11의 아해가 무섭다고 그리오.\n",
            "제 12의 아해가 무섭다고 그리오.\n",
            "제 13의 아해가 무섭다고 그리오.\n",
            "십삼인의 아해는 무서운 아해와 무서워하는 아해와 그렇게 뿐이 모였소. (다른 사람은 없는 것이 차라리 나았소)\n",
            "\n",
            "그 중에 1인의 아해가 무서운 아해라도 좋소.\n",
            "그 중에 2인의 아해가 무서운 아해라도 좋소.\n",
            "그 중에 2인의 아해가 무서워하는 아해라도 좋소.\n",
            "그 중에 1인의 아해가 무서워하는 아해라도 좋소.\n",
            "\n",
            "(길은 뚫린 골목이라도 적당하오.)\n",
            "13인의 아해가 도로로 질주하지 아니하여도 좋소.\n"
          ]
        },
        {
          "output_type": "display_data",
          "data": {
            "text/plain": [
              "<IPython.lib.display.Audio object>"
            ],
            "text/html": [
              "\n",
              "                <audio  controls=\"controls\" autoplay=\"autoplay\">\n",
              "                    <source src=\"data:audio/x-wav;base64,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\" type=\"audio/x-wav\" />\n",
              "                    Your browser does not support the audio element.\n",
              "                </audio>\n",
              "              "
            ]
          },
          "metadata": {}
        }
      ],
      "source": [
        "# 파일 읽기\n",
        "from gtts import gTTS\n",
        "from IPython.display import Audio\n",
        "s = None\n",
        "with open(\"오감도.txt\",\"r\") as f:\n",
        "    s = f.read()\n",
        "    print(s)\n",
        "\n",
        "kor_wav = gTTS(s, lang = 'ko')\n",
        "kor_wav.save('kor.wav')\n",
        "\n",
        "display(Audio('kor.wav', autoplay=True))"
      ]
    },
    {
      "cell_type": "markdown",
      "metadata": {
        "id": "HyMmwYFGRXTC"
      },
      "source": [
        "### 실습문제 :  구글TTS(gTTS) 사용하여 음성 출력하기"
      ]
    },
    {
      "cell_type": "code",
      "execution_count": 9,
      "metadata": {
        "colab": {
          "base_uri": "https://localhost:8080/",
          "height": 731
        },
        "id": "c-USfR8rRXgG",
        "outputId": "f86a1797-e4b8-4e57-d1d7-a317cc4e1db3"
      },
      "outputs": [
        {
          "output_type": "stream",
          "name": "stdout",
          "text": [
            "제주미채 카페에 오신 것을 환영합니다.\n",
            "--------------------------------------------------\n"
          ]
        },
        {
          "output_type": "display_data",
          "data": {
            "text/plain": [
              "<IPython.lib.display.Audio object>"
            ],
            "text/html": [
              "\n",
              "                <audio  controls=\"controls\" autoplay=\"autoplay\">\n",
              "                    <source src=\"data:audio/x-wav;base64,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\" type=\"audio/x-wav\" />\n",
              "                    Your browser does not support the audio element.\n",
              "                </audio>\n",
              "              "
            ]
          },
          "metadata": {}
        },
        {
          "output_type": "stream",
          "name": "stdout",
          "text": [
            " 메뉴판\n",
            "- 아메리카노:  3000원\n",
            "- 카페라테:     4000원\n",
            "- 카페모카:     5000원\n"
          ]
        },
        {
          "output_type": "display_data",
          "data": {
            "text/plain": [
              "<IPython.lib.display.Audio object>"
            ],
            "text/html": [
              "\n",
              "                <audio  controls=\"controls\" autoplay=\"autoplay\">\n",
              "                    <source src=\"data:audio/x-wav;base64,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\" type=\"audio/x-wav\" />\n",
              "                    Your browser does not support the audio element.\n",
              "                </audio>\n",
              "              "
            ]
          },
          "metadata": {}
        },
        {
          "output_type": "display_data",
          "data": {
            "text/plain": [
              "<IPython.lib.display.Audio object>"
            ],
            "text/html": [
              "\n",
              "                <audio  controls=\"controls\" autoplay=\"autoplay\">\n",
              "                    <source src=\"data:audio/x-wav;base64,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\" type=\"audio/x-wav\" />\n",
              "                    Your browser does not support the audio element.\n",
              "                </audio>\n",
              "              "
            ]
          },
          "metadata": {}
        },
        {
          "output_type": "error",
          "ename": "KeyboardInterrupt",
          "evalue": "ignored",
          "traceback": [
            "\u001b[0;31m---------------------------------------------------------------------------\u001b[0m",
            "\u001b[0;31mKeyboardInterrupt\u001b[0m                         Traceback (most recent call last)",
            "\u001b[0;32m<ipython-input-9-58936b57836a>\u001b[0m in \u001b[0;36m<cell line: 27>\u001b[0;34m()\u001b[0m\n\u001b[1;32m     25\u001b[0m \u001b[0mtime\u001b[0m\u001b[0;34m.\u001b[0m\u001b[0msleep\u001b[0m\u001b[0;34m(\u001b[0m\u001b[0;36m1\u001b[0m\u001b[0;34m)\u001b[0m\u001b[0;34m\u001b[0m\u001b[0;34m\u001b[0m\u001b[0m\n\u001b[1;32m     26\u001b[0m \u001b[0mmessage\u001b[0m \u001b[0;34m=\u001b[0m \u001b[0;34m'주문하실 음료를 입력하세요(ex:아메리카노) => '\u001b[0m\u001b[0;34m\u001b[0m\u001b[0;34m\u001b[0m\u001b[0m\n\u001b[0;32m---> 27\u001b[0;31m \u001b[0mcoffee\u001b[0m \u001b[0;34m=\u001b[0m \u001b[0minput\u001b[0m\u001b[0;34m(\u001b[0m\u001b[0mmessage\u001b[0m\u001b[0;34m)\u001b[0m\u001b[0;34m\u001b[0m\u001b[0;34m\u001b[0m\u001b[0m\n\u001b[0m\u001b[1;32m     28\u001b[0m \u001b[0;34m\u001b[0m\u001b[0m\n\u001b[1;32m     29\u001b[0m \u001b[0mplay_audio\u001b[0m\u001b[0;34m(\u001b[0m\u001b[0mmessage\u001b[0m\u001b[0;34m)\u001b[0m\u001b[0;34m\u001b[0m\u001b[0;34m\u001b[0m\u001b[0m\n",
            "\u001b[0;32m/usr/local/lib/python3.10/dist-packages/ipykernel/kernelbase.py\u001b[0m in \u001b[0;36mraw_input\u001b[0;34m(self, prompt)\u001b[0m\n\u001b[1;32m    849\u001b[0m                 \u001b[0;34m\"raw_input was called, but this frontend does not support input requests.\"\u001b[0m\u001b[0;34m\u001b[0m\u001b[0;34m\u001b[0m\u001b[0m\n\u001b[1;32m    850\u001b[0m             )\n\u001b[0;32m--> 851\u001b[0;31m         return self._input_request(str(prompt),\n\u001b[0m\u001b[1;32m    852\u001b[0m             \u001b[0mself\u001b[0m\u001b[0;34m.\u001b[0m\u001b[0m_parent_ident\u001b[0m\u001b[0;34m,\u001b[0m\u001b[0;34m\u001b[0m\u001b[0;34m\u001b[0m\u001b[0m\n\u001b[1;32m    853\u001b[0m             \u001b[0mself\u001b[0m\u001b[0;34m.\u001b[0m\u001b[0m_parent_header\u001b[0m\u001b[0;34m,\u001b[0m\u001b[0;34m\u001b[0m\u001b[0;34m\u001b[0m\u001b[0m\n",
            "\u001b[0;32m/usr/local/lib/python3.10/dist-packages/ipykernel/kernelbase.py\u001b[0m in \u001b[0;36m_input_request\u001b[0;34m(self, prompt, ident, parent, password)\u001b[0m\n\u001b[1;32m    893\u001b[0m             \u001b[0;32mexcept\u001b[0m \u001b[0mKeyboardInterrupt\u001b[0m\u001b[0;34m:\u001b[0m\u001b[0;34m\u001b[0m\u001b[0;34m\u001b[0m\u001b[0m\n\u001b[1;32m    894\u001b[0m                 \u001b[0;31m# re-raise KeyboardInterrupt, to truncate traceback\u001b[0m\u001b[0;34m\u001b[0m\u001b[0;34m\u001b[0m\u001b[0m\n\u001b[0;32m--> 895\u001b[0;31m                 \u001b[0;32mraise\u001b[0m \u001b[0mKeyboardInterrupt\u001b[0m\u001b[0;34m(\u001b[0m\u001b[0;34m\"Interrupted by user\"\u001b[0m\u001b[0;34m)\u001b[0m \u001b[0;32mfrom\u001b[0m \u001b[0;32mNone\u001b[0m\u001b[0;34m\u001b[0m\u001b[0;34m\u001b[0m\u001b[0m\n\u001b[0m\u001b[1;32m    896\u001b[0m             \u001b[0;32mexcept\u001b[0m \u001b[0mException\u001b[0m \u001b[0;32mas\u001b[0m \u001b[0me\u001b[0m\u001b[0;34m:\u001b[0m\u001b[0;34m\u001b[0m\u001b[0;34m\u001b[0m\u001b[0m\n\u001b[1;32m    897\u001b[0m                 \u001b[0mself\u001b[0m\u001b[0;34m.\u001b[0m\u001b[0mlog\u001b[0m\u001b[0;34m.\u001b[0m\u001b[0mwarning\u001b[0m\u001b[0;34m(\u001b[0m\u001b[0;34m\"Invalid Message:\"\u001b[0m\u001b[0;34m,\u001b[0m \u001b[0mexc_info\u001b[0m\u001b[0;34m=\u001b[0m\u001b[0;32mTrue\u001b[0m\u001b[0;34m)\u001b[0m\u001b[0;34m\u001b[0m\u001b[0;34m\u001b[0m\u001b[0m\n",
            "\u001b[0;31mKeyboardInterrupt\u001b[0m: Interrupted by user"
          ]
        }
      ],
      "source": [
        "from gtts import gTTS\n",
        "from IPython.display import Audio\n",
        "import time\n",
        "\n",
        "def play_audio(message):\n",
        "    kor_wav = gTTS(message, lang = 'ko')\n",
        "    kor_wav.save('kor.wav')\n",
        "    display(Audio('kor.wav', autoplay=True))\n",
        "\n",
        "message = '제주미채 카페에 오신 것을 환영합니다.'\n",
        "print(message)\n",
        "print('-' * 50)\n",
        "play_audio(message)\n",
        "time.sleep(5)\n",
        "\n",
        "menu = ''' 메뉴판\n",
        "- 아메리카노:  3000원\n",
        "- 카페라테:     4000원\n",
        "- 카페모카:     5000원'''\n",
        "print(menu)\n",
        "play_audio(menu)\n",
        "time.sleep(7)\n",
        "\n",
        "play_audio(message)\n",
        "time.sleep(1)\n",
        "message = '주문하실 음료를 입력하세요(ex:아메리카노) => '\n",
        "coffee = input(message)\n",
        "\n",
        "play_audio(message)\n",
        "time.sleep(1)\n",
        "message = f'{coffee} 몇 잔을 주문하시겠습니까?: '\n",
        "cup = input(message)\n",
        "\n",
        "play_audio(message)\n",
        "time.sleep(2)\n",
        "message = f'주문하신 음료는 {coffee} {cup} 잔 입니다.'\n",
        "print(message)\n",
        "\n",
        "message\n",
        "play_audio(message)\n"
      ]
    },
    {
      "cell_type": "markdown",
      "metadata": {
        "id": "xPW5SM108GGT"
      },
      "source": [
        "### **[문자열 인덱싱과 슬레이싱]**"
      ]
    },
    {
      "cell_type": "code",
      "execution_count": 11,
      "metadata": {
        "id": "SNAFf0-FPTUO",
        "colab": {
          "base_uri": "https://localhost:8080/"
        },
        "outputId": "ed2cfacc-8c87-4727-cf6e-79ea146207a0"
      },
      "outputs": [
        {
          "output_type": "stream",
          "name": "stdout",
          "text": [
            " 민족중흥의 역사\n",
            "ra\n"
          ]
        }
      ],
      "source": [
        "a = '우리는 민족중흥의 역사적 사명을 띠고 이 땅에 태어났다.'\n",
        "print(a[3:12] )\n",
        "\n",
        "fruits = 'orange'\n",
        "print(fruits[1:3])"
      ]
    },
    {
      "cell_type": "markdown",
      "metadata": {
        "id": "GdjCIoKx8GGT"
      },
      "source": [
        "### 실습문제 : 문자열 거꾸로 출력하기\n",
        "\n",
        "문자열을 입력 받아 거꾸로 출력하는 프로그램을 작성하세요"
      ]
    },
    {
      "cell_type": "code",
      "execution_count": null,
      "metadata": {
        "colab": {
          "base_uri": "https://localhost:8080/"
        },
        "id": "xo-ZBQiO8GGT",
        "outputId": "98993d0e-e197-4a27-e641-b02b7e981e4f",
        "scrolled": true
      },
      "outputs": [
        {
          "name": "stdout",
          "output_type": "stream",
          "text": [
            "문자열을 입력하세요: 파이썬\n",
            "썬이파\n"
          ]
        }
      ],
      "source": [
        "s = input('문자열을 입력하세요: ')\n",
        "print(s[::-1])"
      ]
    },
    {
      "cell_type": "markdown",
      "metadata": {
        "id": "PZghIVpIdg-c"
      },
      "source": [
        "### 실습문제 : 파일명.확장자명 분리하기"
      ]
    },
    {
      "cell_type": "code",
      "execution_count": null,
      "metadata": {
        "colab": {
          "base_uri": "https://localhost:8080/"
        },
        "id": "o3CvgoVJdhN0",
        "outputId": "4122a4ea-cbeb-4582-910a-3ef0fee0ac3c"
      },
      "outputs": [
        {
          "name": "stdout",
          "output_type": "stream",
          "text": [
            "확장자가 포함된 파일명을 입력하세요: test.py\n",
            "파일명: test\n",
            "확장자: py\n"
          ]
        }
      ],
      "source": [
        "a = input('확장자가 포함된 파일명을 입력하세요: ')\n",
        "\n",
        "print(f\"파일명: {a.split('.')[0]}\")\n",
        "print(f\"확장자: {a.split('.')[1]}\")"
      ]
    },
    {
      "cell_type": "markdown",
      "metadata": {
        "id": "OSn4MTyNeVJU"
      },
      "source": [
        "### **[변수 활용]**"
      ]
    },
    {
      "cell_type": "markdown",
      "metadata": {
        "id": "3jnglF5x8GGU"
      },
      "source": [
        "#### 실습문제 : 지불할 음식 총 가격 계산하\n",
        "- 음식가격:  4,450 원\n",
        "- 세금: 6.75%\n",
        "- 팁: 15%\n",
        "1. meal 변수를 선언하고 값을 4450으로 지정하세요.\n",
        "2. tax 변수를 생성하고 값으로 6.75%를 소수점 형태로 지정하세요.\n",
        "3. tip 변수를 생성하고 값으로 15%를 소수점 형태로 지정하세요.\n",
        "4. meal의 변수값에 세금을 곱해 meal 변수에 지정하세요.\n",
        "5. 음식값에 tip을 더해 total 변수에 지정하세요.\n",
        "6. total 변수 값을 출력하세요."
      ]
    },
    {
      "cell_type": "code",
      "source": [
        "meal = 4450\n",
        "tax = 0.0675\n",
        "tip = 0.15\n",
        "meal = meal + (meal * tax)\n",
        "total = meal + (meal * tip)\n",
        "print(f'음식가격(세금포함): {meal}')\n",
        "print(f'지출할 음식가격(팁포함): {round(total, 2)}')"
      ],
      "metadata": {
        "colab": {
          "base_uri": "https://localhost:8080/"
        },
        "id": "Jlxv_o75Bey9",
        "outputId": "cd574eb4-c68f-4e05-8932-cb3df9e4be57"
      },
      "execution_count": 13,
      "outputs": [
        {
          "output_type": "stream",
          "name": "stdout",
          "text": [
            "음식가격(세금포함): 4750.375\n",
            "지출할 음식가격(팁포함): 5462.93\n"
          ]
        }
      ]
    },
    {
      "cell_type": "code",
      "execution_count": 12,
      "metadata": {
        "colab": {
          "base_uri": "https://localhost:8080/"
        },
        "id": "-us6IUf28GGU",
        "outputId": "1d2cd6aa-f123-4e10-ba6a-9b39e5b2cb6a"
      },
      "outputs": [
        {
          "output_type": "stream",
          "name": "stdout",
          "text": [
            "음식가격(세금포함): 4750.375\n",
            "지출할 음식가격(팁포함): 5462.93\n",
            "--------------------------------------------------\n"
          ]
        }
      ],
      "source": [
        "meal = 4450   # 1.음식가격\n",
        "tax = 0.0675   # 2.세금\n",
        "tip = 0.15       # 3.팁\n",
        "meal = meal + (meal * tax)   # 4.음식가격(세금포함)\n",
        "total = meal + (meal * tip)    # 5.지출할 음식가격(팁포함)\n",
        "print(f'음식가격(세금포함): {meal}')\n",
        "print(f'지출할 음식가격(팁포함): {round(total, 2)}')\n",
        "print('-' * 50)"
      ]
    },
    {
      "cell_type": "code",
      "source": [
        "meal, tax, tip = 4450, 0.0675, 0.15\n",
        "tax = meal * tax    # 세금으로 내야할 금액\n",
        "meal = meal + tax   # 세금 포함된 음식가격\n",
        "tip = meal * tip    # 팁으로 내야할 금액\n",
        "total = meal + tip  # 내가 지불해야할 총 금액\n",
        "print(f'세금으로 내야할 금액: {tax}')\n",
        "print(f'세금 포함된 음식가격: {meal}')\n",
        "print(f'팁으로 내야할 금액: {tip}')\n",
        "print(f'내가 지불해야할 총 금액: {total}')"
      ],
      "metadata": {
        "colab": {
          "base_uri": "https://localhost:8080/"
        },
        "id": "V4i_T-BVEPGo",
        "outputId": "6e81822e-4d19-4f27-fd2c-947f82b41453"
      },
      "execution_count": 14,
      "outputs": [
        {
          "output_type": "stream",
          "name": "stdout",
          "text": [
            "세금으로 내야할 금액: 300.375\n",
            "세금 포함된 음식가격: 4750.375\n",
            "팁으로 내야할 금액: 712.55625\n",
            "내가 지불해야할 총 금액: 5462.93125\n"
          ]
        }
      ]
    },
    {
      "cell_type": "markdown",
      "metadata": {
        "id": "Csltm-dLetMB"
      },
      "source": [
        "### 실습문제 : 섭씨온도를 화씨온도로 변환하기\n",
        "- 섭씨 온도 (Celsius): 1 atm에서의 물의 어는점을 0도, 끓는점을 100도로 정한 온도 체계. (°C)\n",
        "- 화씨 온도 (Fahrenheit): 물이 어는 온도는 32도, 물이 끓는 온도는 212도. 180등분. (°F)\n",
        "- 섭씨온도(℃) = (5 / 9) × (℉ - 32)  # Celsius\n",
        "- 화씨온도(℉) = (9 / 5) × ℃ + 32    # Fahrenheit"
      ]
    },
    {
      "cell_type": "code",
      "execution_count": null,
      "metadata": {
        "colab": {
          "base_uri": "https://localhost:8080/"
        },
        "id": "3GZB3ozk8GGU",
        "outputId": "a53b5a5b-ba94-4cca-ccc9-eda1e6099d3a"
      },
      "outputs": [
        {
          "name": "stdout",
          "output_type": "stream",
          "text": [
            "섭씨온도를 입력하세요: 34\n",
            "섭씨온도: 34는 화씨온도로: 93.2 이다\n"
          ]
        }
      ],
      "source": [
        "# c_temp = input()   #키보드로부터 입력을 받는 함수: input()\n",
        "# c_temp = int(c_temp)  # 정수로 변환: int()\n",
        "# print(c_temp, type(c_temp) )\n",
        "\n",
        "c_temp = int( input('섭씨온도를 입력하세요: ') )\n",
        "f_temp = (9/5) * c_temp +32\n",
        "print(f'섭씨온도: {c_temp}는 화씨온도로: {f_temp} 이다')"
      ]
    },
    {
      "cell_type": "markdown",
      "metadata": {
        "id": "3UTLuSAp8GGY"
      },
      "source": [
        "--------"
      ]
    },
    {
      "cell_type": "markdown",
      "metadata": {
        "id": "fmU7O8WS8GGY"
      },
      "source": [
        "### **[연산자]**"
      ]
    },
    {
      "cell_type": "markdown",
      "metadata": {
        "id": "eRCyhgwS8GGY"
      },
      "source": [
        "#### 실습문제 :  동전 교환 프로그램\n",
        "동전교환 프로그램을 작성하세요"
      ]
    },
    {
      "cell_type": "code",
      "execution_count": null,
      "metadata": {
        "id": "g8A7ErL78GGY",
        "outputId": "8cdb51bd-24f5-4761-feaa-e5775fe4e8d6"
      },
      "outputs": [
        {
          "name": "stdout",
          "output_type": "stream",
          "text": [
            "동전으로 교환할 금액을 입력하세요: 4321\n",
            "\n",
            "500원짜리 ==> 8개\n",
            "100원짜리 ==> 3개\n",
            "50원짜리 ==> 0개\n",
            "10원짜리 ==> 2개\n",
            "잔돈  ==> 1원\n"
          ]
        }
      ],
      "source": [
        "# 키보드로부터 금액 입력 받기\n",
        "print('---동전교환기 프로그램을 작동합니다.---')\n",
        "money = int( input('금액을 입력하세요: '))\n",
        "print('동전으로 교환하겠습니다.---------')\n",
        "\n",
        "print(f'500원짜리 동전: {money//500} 개')\n",
        "money %= 500   #money = money % 500\n",
        "print(f'100원짜리 동전: {money//100} 개')\n",
        "money = money % 100\n",
        "print(f'50원짜리 동전: {money//50} 개')\n",
        "money = money % 50\n",
        "print(f'10원짜리 동전: {money//10} 개')\n",
        "money = money % 10\n",
        "print(f'잔돈:  {money}')"
      ]
    },
    {
      "cell_type": "markdown",
      "metadata": {
        "id": "rCYXIs248GGY"
      },
      "source": [
        "### **[리스트]**"
      ]
    },
    {
      "cell_type": "markdown",
      "metadata": {
        "id": "YumGEyjSfPXF"
      },
      "source": [
        "- 리스트는 여러 개의 데이터 값을 하나의 변수에 담을 수 있는 데이터 구조\n",
        "- 리스트는 순서(인덱스)가 있고 데이터를 수정, 삭제, 추가 가능하다.\n",
        "- 대괄호로 표현되고 내부 원소는 ,(쉼표)로 구분됨\n",
        "\n",
        "**리스트 생성 & 삭제**"
      ]
    },
    {
      "cell_type": "code",
      "execution_count": 17,
      "metadata": {
        "id": "7fDp5hT0fhEx",
        "colab": {
          "base_uri": "https://localhost:8080/",
          "height": 276
        },
        "outputId": "ef426a5f-83b8-429c-f021-b20be1cd2499"
      },
      "outputs": [
        {
          "output_type": "stream",
          "name": "stdout",
          "text": [
            "[1, 2, ['a', 'b', ['사랑해', '파이썬']], 3]\n",
            "['a', '1', 1, [2, 3], -4]\n",
            "[1, 2, ['a', 'b', ['사랑해', '파이썬']], 3]\n"
          ]
        },
        {
          "output_type": "error",
          "ename": "NameError",
          "evalue": "ignored",
          "traceback": [
            "\u001b[0;31m---------------------------------------------------------------------------\u001b[0m",
            "\u001b[0;31mNameError\u001b[0m                                 Traceback (most recent call last)",
            "\u001b[0;32m<ipython-input-17-95865b524456>\u001b[0m in \u001b[0;36m<cell line: 15>\u001b[0;34m()\u001b[0m\n\u001b[1;32m     13\u001b[0m \u001b[0;34m\u001b[0m\u001b[0m\n\u001b[1;32m     14\u001b[0m \u001b[0mprint\u001b[0m\u001b[0;34m(\u001b[0m\u001b[0ma\u001b[0m\u001b[0;34m)\u001b[0m\u001b[0;34m\u001b[0m\u001b[0;34m\u001b[0m\u001b[0m\n\u001b[0;32m---> 15\u001b[0;31m \u001b[0mprint\u001b[0m\u001b[0;34m(\u001b[0m\u001b[0mb\u001b[0m\u001b[0;34m)\u001b[0m\u001b[0;34m\u001b[0m\u001b[0;34m\u001b[0m\u001b[0m\n\u001b[0m",
            "\u001b[0;31mNameError\u001b[0m: name 'b' is not defined"
          ]
        }
      ],
      "source": [
        "a = list()\n",
        "a = []\n",
        "a = [1,2,3]\n",
        "a = ['I', 'Love', 'Python']\n",
        "b = [1,2, '사랑해요', 'Python']\n",
        "b = ['a', '1', 1, [2,3], -4]\n",
        "a = [1,2,['a','b',['사랑해', '파이썬']], 3]\n",
        "print(a)\n",
        "print(b)\n",
        "\n",
        "# 리스트 삭제\n",
        "del(b)\n",
        "\n",
        "print(a)\n",
        "print(b)"
      ]
    },
    {
      "cell_type": "markdown",
      "metadata": {
        "id": "ZDNnr2DrfhbC"
      },
      "source": [
        "**리스트 요소에 접근**"
      ]
    },
    {
      "cell_type": "code",
      "execution_count": 15,
      "metadata": {
        "id": "dE18h8OHfhzH",
        "colab": {
          "base_uri": "https://localhost:8080/",
          "height": 276
        },
        "outputId": "ea6d6592-a3e0-4612-d6e2-992915cf3ea1"
      },
      "outputs": [
        {
          "output_type": "stream",
          "name": "stdout",
          "text": [
            "리\n",
            "는\n"
          ]
        },
        {
          "output_type": "error",
          "ename": "IndexError",
          "evalue": "ignored",
          "traceback": [
            "\u001b[0;31m---------------------------------------------------------------------------\u001b[0m",
            "\u001b[0;31mIndexError\u001b[0m                                Traceback (most recent call last)",
            "\u001b[0;32m<ipython-input-15-543749ee20e1>\u001b[0m in \u001b[0;36m<cell line: 3>\u001b[0;34m()\u001b[0m\n\u001b[1;32m      1\u001b[0m \u001b[0mprint\u001b[0m\u001b[0;34m(\u001b[0m \u001b[0ma\u001b[0m\u001b[0;34m[\u001b[0m\u001b[0;36m1\u001b[0m\u001b[0;34m]\u001b[0m \u001b[0;34m)\u001b[0m\u001b[0;34m\u001b[0m\u001b[0;34m\u001b[0m\u001b[0m\n\u001b[1;32m      2\u001b[0m \u001b[0mprint\u001b[0m\u001b[0;34m(\u001b[0m \u001b[0ma\u001b[0m\u001b[0;34m[\u001b[0m\u001b[0;36m2\u001b[0m\u001b[0;34m]\u001b[0m \u001b[0;34m)\u001b[0m\u001b[0;34m\u001b[0m\u001b[0;34m\u001b[0m\u001b[0m\n\u001b[0;32m----> 3\u001b[0;31m \u001b[0mprint\u001b[0m\u001b[0;34m(\u001b[0m \u001b[0ma\u001b[0m\u001b[0;34m[\u001b[0m\u001b[0;36m2\u001b[0m\u001b[0;34m]\u001b[0m\u001b[0;34m[\u001b[0m\u001b[0;36m1\u001b[0m\u001b[0;34m]\u001b[0m \u001b[0;34m)\u001b[0m\u001b[0;34m\u001b[0m\u001b[0;34m\u001b[0m\u001b[0m\n\u001b[0m\u001b[1;32m      4\u001b[0m \u001b[0;31m# '파이썬'을 출력하려면?\u001b[0m\u001b[0;34m\u001b[0m\u001b[0;34m\u001b[0m\u001b[0m\n",
            "\u001b[0;31mIndexError\u001b[0m: string index out of range"
          ]
        }
      ],
      "source": [
        "print( a[1] )\n",
        "print( a[2] )\n",
        "print( a[2][1] )\n",
        "# '파이썬'을 출력하려면?"
      ]
    },
    {
      "cell_type": "markdown",
      "metadata": {
        "id": "CBiv_U9vfh9l"
      },
      "source": [
        "**리스트 요소 추가 / 변경**"
      ]
    },
    {
      "cell_type": "code",
      "execution_count": null,
      "metadata": {
        "id": "i4_2rAyrfiGl"
      },
      "outputs": [],
      "source": [
        "print(a)\n",
        "a.append('봄')     # 리스트 맨 끝에 추가\n",
        "print(a)\n",
        "a.insert(1, '봄')  # 리스트명.insert(인덱스위치, 값)\n",
        "print(a)"
      ]
    },
    {
      "cell_type": "markdown",
      "metadata": {
        "id": "k211ATQqf5Ol"
      },
      "source": [
        "**리스트 요소 삭제**"
      ]
    },
    {
      "cell_type": "code",
      "execution_count": null,
      "metadata": {
        "id": "jb18botVf5V-"
      },
      "outputs": [],
      "source": [
        "print(a)\n",
        "a.pop()     # 리스트 맨 끝 요소 삭제\n",
        "print(a)\n",
        "a.remove('봄')  # 리스트명.remove(값), 단 여러 개 일 경우 첫 번째만 삭제됨\n",
        "print(a)"
      ]
    },
    {
      "cell_type": "markdown",
      "metadata": {
        "id": "DTsiTSprfPtQ"
      },
      "source": [
        "### **[딕셔너리]**"
      ]
    },
    {
      "cell_type": "markdown",
      "metadata": {
        "id": "n5XA-oqKgARN"
      },
      "source": [
        "**딕셔너리 키(key)와 값(value)에 접근하기**"
      ]
    },
    {
      "cell_type": "code",
      "execution_count": 18,
      "metadata": {
        "id": "JcVVvEfAgA77",
        "colab": {
          "base_uri": "https://localhost:8080/"
        },
        "outputId": "8f7b1e92-7fb3-40b3-9bde-9f03e9f6c53a"
      },
      "outputs": [
        {
          "output_type": "stream",
          "name": "stdout",
          "text": [
            "100\n",
            "---방법1---\n",
            "국어 => 100\n",
            "수학 => 90\n",
            "영어 => 80\n",
            "---방법2---\n",
            "국어 => 100\n",
            "수학 => 90\n",
            "영어 => 80\n"
          ]
        }
      ],
      "source": [
        "scores = {'국어': 100, '수학': 90, '영어': 80}\n",
        "\n",
        "print(scores['국어'])  # 딕셔너리는 키로 접근한다.\n",
        "\n",
        "# 방법1\n",
        "print('---방법1---')\n",
        "for key in scores:\n",
        "    print('%s => %s' % (key, scores[key]))\n",
        "\n",
        "# 방법2\n",
        "print('---방법2---')\n",
        "for key, value in scores.items():\n",
        "    print('%s => %s' % (key, value))"
      ]
    },
    {
      "cell_type": "code",
      "execution_count": null,
      "metadata": {
        "id": "yqlgBr22gH_7"
      },
      "outputs": [],
      "source": [
        "print(scores.keys())   # 키만 추출\n",
        "print(scores.values()) # 키만 추출\n",
        "print(scores.items())  # (키,값)쌍 형태로 추출"
      ]
    },
    {
      "cell_type": "markdown",
      "metadata": {
        "id": "ZRDlQlqOgBDO"
      },
      "source": [
        "**딕셔너리에 요소 추가/수정/삭제**"
      ]
    },
    {
      "cell_type": "code",
      "execution_count": null,
      "metadata": {
        "id": "DVW8BQbAgBKR"
      },
      "outputs": [],
      "source": [
        "# 키로 요소 추가하기\n",
        "scores['music'] = 100\n",
        "print(scores)\n",
        "\n",
        "# 요소 값 수정하기\n",
        "scores['수학'] = 99\n",
        "print(scores)\n",
        "\n",
        "# 요소 삭제하기\n",
        "del (scores['영어'])\n",
        "print(scores)"
      ]
    },
    {
      "cell_type": "markdown",
      "metadata": {
        "id": "0SWp1LN08GGY"
      },
      "source": [
        "------"
      ]
    },
    {
      "cell_type": "markdown",
      "metadata": {
        "id": "x4FIhV_y8GGZ"
      },
      "source": [
        "### 2-2. 조건문과 반목문으로 흐름 제어하기"
      ]
    },
    {
      "cell_type": "markdown",
      "metadata": {
        "id": "LPe_skHf8GGZ"
      },
      "source": [
        "### **[조건문]**"
      ]
    },
    {
      "cell_type": "markdown",
      "metadata": {
        "id": "Ar6JKwtB8GGZ"
      },
      "source": [
        "#### 실습문제 : 짝수 홀수 판별하기\n",
        "숫자를 입력 받아 짝수/홀수를 판별하는 코드를 만들어 보세요."
      ]
    },
    {
      "cell_type": "code",
      "execution_count": null,
      "metadata": {
        "id": "09w2BCcN8GGZ",
        "outputId": "4bf8e192-bd6e-48c3-cfe3-8db8f4e908b5"
      },
      "outputs": [
        {
          "name": "stdout",
          "output_type": "stream",
          "text": [
            "숫자를 입력해 주세요: 43\n",
            "입력된 수 : 43 ==> 홀수\n"
          ]
        }
      ],
      "source": [
        "x = int(input('숫자를 입력해 주세요: '))\n",
        "\n",
        "if x % 2 == 0:\n",
        "    print('입력된 수 : %d ==> 짝수' % x)\n",
        "else:\n",
        "    print('입력된 수 : %d ==> 홀수' % x)"
      ]
    },
    {
      "cell_type": "markdown",
      "metadata": {
        "id": "kJuobsMS8GGZ"
      },
      "source": [
        "#### 실습문제 : 직각 삼각형 판별하기\n",
        "피타고라스 정리에 의해 직각삼각형의 세 변의 길이에 대한 관계는 아래와 같습니다. 이 정리를 이용하여 세 변의 길이를 입력 받은 삼각형이 직각삼각형인지 아닌지 판별하는 프로그램을 만들어 보세요"
      ]
    },
    {
      "cell_type": "code",
      "execution_count": null,
      "metadata": {
        "id": "YWDF2qmn8GGZ",
        "outputId": "9a71bb78-a94d-4a1c-d7ea-01f601f4ab02"
      },
      "outputs": [
        {
          "name": "stdout",
          "output_type": "stream",
          "text": [
            "주민번호 : 191218-1234567\n",
            "1919년 12월 18일, 102세, 남성\n",
            "1919년 12월 18일, 103세, 남성\n"
          ]
        }
      ],
      "source": [
        "# 1. 세 변의 길이 입력 받기\n",
        "a = int(input('변 a의 길이: '))\n",
        "b = int(input('변 b의 길이: '))\n",
        "c = int(input('변 c의 길이: '))\n",
        "\n",
        "# print(f'{a**2}, {b**2}, {c**2}')\n",
        "print('-' * 30)  # 분리 선\n",
        "\n",
        "# 2. 직각삼각형 판별하기\n",
        "if (a**2 + b**2) == c**2:\n",
        "    print('직각삼각형입니다')\n",
        "else:\n",
        "    print('직각삼각형이 아닙니다')"
      ]
    },
    {
      "cell_type": "markdown",
      "metadata": {
        "id": "3SDdg7Aeg7MW"
      },
      "source": [
        "### 실습문제 : 커피 자판기 조건문\n",
        "아래 조건을 만족하는 커피 자동주문 머신을 만들어보세요.<br><br>\n",
        "[커피 자동주문 머신]<br>\n",
        "친구들과 현금 커피 자동주문 머신 앞에서\n",
        " - 아메리카노 2잔과 카페라테 2잔 카푸치노 1잔을 주문하였다.\n",
        " - 아메리카노 한잔에 2500원이고\n",
        " - 카페라테는 한잔에 3000원\n",
        " - 카푸치노는 한잔에 3000원이다.\n",
        "커피 종류와 잔 수를 결정한 후 현금 15000원을 투입하고 잔돈을 1000원 받았다."
      ]
    },
    {
      "cell_type": "code",
      "execution_count": null,
      "metadata": {
        "id": "BZlOMJHKg7dN"
      },
      "outputs": [],
      "source": [
        "menu = '''[커피 자동주문 머신 메뉴]\n",
        "------------------------------\n",
        "-아메리카노는 2500원\n",
        "-카레라떼는 3000원\n",
        "-카푸치노는 3000원\n",
        "입니다. 원하시는 커피종류와 잔수를 입력하세요.\n",
        "------------------------------'''\n",
        "print(menu)\n",
        "coffee1 = int(input(\"아메리카노 몇잔?\"))\n",
        "coffee2 = int(input(\"카페라떼 몇잔?\"))\n",
        "coffee3 = int(input(\"카푸치노 몇잔?\"))\n",
        "\n",
        "sum = coffee1*2500 + coffee2*3000 + coffee3*3000\n",
        "print(\"지불할 총 금액은 \", sum, \"원 입니다\")\n",
        "print('------------------------------')\n",
        "\n",
        "money = int(input(\"돈을 넣어주세요~: \"))\n",
        "change = money - sum\n",
        "if change < 0:\n",
        "    print(\"입력한 금액이 부족합니다. \", change*-1, \"원을 더 넣어주세요.\")\n",
        "else:\n",
        "    print(\"거스름돈은 \", change, \"원 입니다\")"
      ]
    },
    {
      "cell_type": "markdown",
      "metadata": {
        "id": "Q31ZlqMchT2f"
      },
      "source": [
        "#### if와 else 문장을 --> elif 문장으로 변환하기"
      ]
    },
    {
      "cell_type": "code",
      "execution_count": null,
      "metadata": {
        "id": "9m8hAaSMhUId"
      },
      "outputs": [],
      "source": [
        "# if, else 문장\n",
        "pocket = ['paper', 'handphone']\n",
        "card = True\n",
        "\n",
        "if 'money' in pocket:\n",
        "    print('택시를 타고 가세요')\n",
        "else:\n",
        "    if card:\n",
        "        print('택시를 타고 가세요')\n",
        "    else:\n",
        "        print('걸어서 가세요')"
      ]
    },
    {
      "cell_type": "code",
      "execution_count": null,
      "metadata": {
        "id": "JGZXfbdNhgJN"
      },
      "outputs": [],
      "source": [
        "# if elif 문장\n",
        "pocket = ['paper', 'handphone']\n",
        "card = True\n",
        "\n",
        "if 'money' in pocket:\n",
        "    print('택시를 타고 가세요')\n",
        "elif card:\n",
        "    print('택시를 타고 가세요')\n",
        "else:\n",
        "    print('걸어서 가세요')"
      ]
    },
    {
      "cell_type": "markdown",
      "metadata": {
        "id": "Io13oQKLhgph"
      },
      "source": [
        "#### 조건부 표현식"
      ]
    },
    {
      "cell_type": "code",
      "execution_count": null,
      "metadata": {
        "id": "h0V6WqWchnTA"
      },
      "outputs": [],
      "source": [
        "score = int(input('점수를 입력하세요: '))\n",
        "message = \"success!\" if score >=60 else \"failure!\"\n",
        "print(message)"
      ]
    },
    {
      "cell_type": "markdown",
      "metadata": {
        "id": "4RoolGBF8GGa"
      },
      "source": [
        "------"
      ]
    },
    {
      "cell_type": "markdown",
      "metadata": {
        "id": "G2T6Nybt8GGa"
      },
      "source": [
        "### **[반복문-for]**"
      ]
    },
    {
      "cell_type": "markdown",
      "metadata": {
        "id": "HuWJNA-T8GGa"
      },
      "source": [
        "#### 실습문제 : 1~N까지 합계 구하기\n",
        "숫자를 입력받아 1~n까지의 합을 구할 때 짝수를 제외하고 합을 구하는 프로그램을 만들어 보세요."
      ]
    },
    {
      "cell_type": "code",
      "execution_count": null,
      "metadata": {
        "id": "t4NbQOOe8GGa",
        "outputId": "be70c1c9-41b5-4dfc-dc8a-b389780f31f5"
      },
      "outputs": [
        {
          "name": "stdout",
          "output_type": "stream",
          "text": [
            "합계를 구할 숫자 입력:100\n",
            "1 ~ 100까지 짝수를 제외한 합은: 2500\n"
          ]
        }
      ],
      "source": [
        "n = int(input('합계를 구할 숫자 입력:'))\n",
        "hap = 0\n",
        "\n",
        "for i in range(1,n+1,2):\n",
        "    hap = hap + i\n",
        "\n",
        "print(f'1 ~ {n}까지 짝수를 제외한 합은: {hap}')"
      ]
    },
    {
      "cell_type": "markdown",
      "metadata": {
        "id": "h93aJfzOiJEc"
      },
      "source": [
        "### [실습문제] turtle로 정오각형 그리기\n",
        "#### 주의! : turtle은 가능한 IDLE 또는 에디터에서 사용한다.\n",
        "Turtle 이용해서 정오각형을 그리는 코드이다. 이것을 for 반복문을 이용하여 코드를 줄여보세요."
      ]
    },
    {
      "cell_type": "code",
      "execution_count": null,
      "metadata": {
        "id": "Qb9JdImXiJQ8"
      },
      "outputs": [],
      "source": [
        "import turtle\n",
        "\n",
        "t=turtle.Pen()    # 펜블럭\n",
        "# t.shape('turtle') # 커서 모양\n",
        "# t.color('red')    # 선 색생\n",
        "# t.pensize(5)      # 선 굵기\n",
        "\n",
        "t.forward(100)\n",
        "t.right(72)\n",
        "t.forward(100)\n",
        "t.right(72)\n",
        "t.forward(100)\n",
        "t.right(72)\n",
        "t.forward(100)\n",
        "t.right(72)\n",
        "t.forward(100)\n",
        "t.right(72)\n",
        "\n",
        "turtle.exitonclick()"
      ]
    },
    {
      "cell_type": "code",
      "execution_count": null,
      "metadata": {
        "id": "NvZvK4qiiQCS"
      },
      "outputs": [],
      "source": [
        "import turtle\n",
        "\n",
        "t=turtle.Pen()    # 펜블럭\n",
        "\n",
        "t.shape('turtle') # 커서 모양\n",
        "t.color('blue')    # 선 색생\n",
        "t.pensize(5)      # 선 굵기\n",
        "\n",
        "for i in range(5):\n",
        "    t.forward(100)\n",
        "    t.right(360/5)\n",
        "\n",
        "turtle.exitonclick()"
      ]
    },
    {
      "cell_type": "code",
      "execution_count": null,
      "metadata": {
        "id": "yB44V9CfiTUa"
      },
      "outputs": [],
      "source": [
        "#벌집 그리기\n",
        "import turtle\n",
        "\n",
        "t=turtle.Turtle()\n",
        "# t.up()\n",
        "# t.goto(-30, 50)\n",
        "# t.down()\n",
        "\n",
        "def honeycomb(): # 벌집 그리기\n",
        "    for i in range(6):\n",
        "        for _ in range(6):\n",
        "            t.forward(100)\n",
        "            t.left(60)\n",
        "        t.forward(100)\n",
        "        t.right(60)\n",
        "\n",
        "honeycomb()\n",
        "turtle.exitonclick()"
      ]
    },
    {
      "cell_type": "code",
      "execution_count": null,
      "metadata": {
        "id": "crtkrhFLiaEz"
      },
      "outputs": [],
      "source": [
        "# 마우스로 클릭한 위치에 별 그리기\n",
        "import turtle\n",
        "t = turtle.Turtle()\n",
        "\n",
        "t.speed(0)  # 0: 그리기 속도 가장 빠르게\n",
        "t.screen.bgcolor('black')\n",
        "t.color('yellow') # (거북이)그리기 색상 노랑\n",
        "t.clear()         # 화면 지우기\n",
        "t.penup()\n",
        "\n",
        "# 별 그리기\n",
        "def drawStar(x, y):\n",
        "    t.goto(x, y)\n",
        "    t.pendown()\n",
        "    t.begin_fill()\n",
        "    for _ in range(5):\n",
        "        t.forward(20)\n",
        "        t.right(144)\n",
        "    t.end_fill()\n",
        "    t.penup()\n",
        "\n",
        "# 마우스로 화면 클릭하기\n",
        "turtle.onscreenclick(drawStar)\n",
        "t.ht()\n",
        "\n",
        "# 화면에 포커스가 있는 상태 유지하기\n",
        "turtle.listen()"
      ]
    },
    {
      "cell_type": "markdown",
      "metadata": {
        "id": "bIFYG9GZi1au"
      },
      "source": [
        "### **[반복문-while]**"
      ]
    },
    {
      "cell_type": "code",
      "execution_count": null,
      "metadata": {
        "id": "3AUjxAga8GGb",
        "outputId": "d3b87194-0c31-48cd-a3f0-0cd141cd4e77",
        "scrolled": true
      },
      "outputs": [
        {
          "name": "stdout",
          "output_type": "stream",
          "text": [
            "더할 첫 번째 숫자: 10\n",
            "더할 두 번째 숫자: 20\n",
            "10 + 20 = 30\n",
            "더할 첫 번째 숫자: 55\n",
            "더할 두 번째 숫자: 30\n",
            "55 + 30 = 85\n",
            "더할 첫 번째 숫자: 0\n",
            "0을 입력해서 반복문을 탈출했습니다.\n"
          ]
        }
      ],
      "source": [
        "num1, num2 = 0, 0\n",
        "\n",
        "while True:\n",
        "    num1 = int(input(\"더할 첫 번째 숫자: \"))\n",
        "    if num1 == 0:\n",
        "        break\n",
        "    num2 = int(input(\"더할 두 번째 숫자: \"))\n",
        "\n",
        "    print(f'{num1} + {num2} = {num1 + num2}')\n",
        "\n",
        "print(\"0을 입력해서 반복문을 탈출했습니다.\")\n"
      ]
    },
    {
      "cell_type": "markdown",
      "metadata": {
        "id": "p7P0Vy-XjIBz"
      },
      "source": [
        "### 실습문제 : 나무 열 번 찍어 넘기기"
      ]
    },
    {
      "cell_type": "code",
      "execution_count": null,
      "metadata": {
        "colab": {
          "base_uri": "https://localhost:8080/"
        },
        "id": "A1OSHn1tjNE5",
        "outputId": "c8215511-fd48-48ad-9e0a-f2638ed1ea6a"
      },
      "outputs": [
        {
          "name": "stdout",
          "output_type": "stream",
          "text": [
            "나무를 1번 찍었습니다.\n",
            "나무를 2번 찍었습니다.\n",
            "나무를 3번 찍었습니다.\n",
            "나무를 4번 찍었습니다.\n",
            "나무를 5번 찍었습니다.\n",
            "나무를 6번 찍었습니다.\n",
            "나무를 7번 찍었습니다.\n",
            "나무를 8번 찍었습니다.\n",
            "나무를 9번 찍었습니다.\n",
            "나무를 10번 찍었습니다.\n",
            "나무 넘어 갑니다~\n"
          ]
        }
      ],
      "source": [
        "treeHit = 0\n",
        "while treeHit < 10:\n",
        "    treeHit += 1\n",
        "    print(f\"나무를 {treeHit}번 찍었습니다.\")\n",
        "print(\"나무 넘어 갑니다~\")"
      ]
    },
    {
      "cell_type": "markdown",
      "metadata": {
        "id": "xLogGjPX8GGb"
      },
      "source": [
        "#### 실습문제: 무한 반복 빠져나오기\n",
        "무한 반복문을 빠져나오기 위한 프로그램을 만들어 보세요"
      ]
    },
    {
      "cell_type": "code",
      "execution_count": null,
      "metadata": {
        "id": "yq1VvWQb8GGb",
        "outputId": "79601563-b679-4b19-e646-93d9902a1cb7"
      },
      "outputs": [
        {
          "name": "stdout",
          "output_type": "stream",
          "text": [
            "\n",
            "    1.Add   2.Del   3.Modify   4.Quit\n",
            "    \n",
            "    Enter number:  1\n",
            "\n",
            "    1.Add   2.Del   3.Modify   4.Quit\n",
            "    \n",
            "    Enter number:  2\n",
            "\n",
            "    1.Add   2.Del   3.Modify   4.Quit\n",
            "    \n",
            "    Enter number:  4\n"
          ]
        }
      ],
      "source": [
        "prompt = \"\"\"\n",
        "    1.Add   2.Del   3.Modify   4.Quit\n",
        "\n",
        "    Enter number: \"\"\"   # 1.코드를 실행하면 출력되는 부분\n",
        "\n",
        "number = 0\n",
        "\n",
        "while number != 4:  # 4.반복문 빠져나오는 조건\n",
        "    number = int(input(prompt+\" \"))   # 2.사용자 입력 부분"
      ]
    },
    {
      "cell_type": "markdown",
      "metadata": {
        "id": "H3QS9PpM8GGb"
      },
      "source": [
        "#### 실습문제\n",
        "공을 일정 높이에서 던졌을 때, 원래 높이의 1/2만큼 튀어 오른다고 합니다. 그러다가 높이가 0.00001m보다 낮으면 튀어오르지 않는다고 합니다. while문을 이용하여 이 프로그램을 만들어 보세요."
      ]
    },
    {
      "cell_type": "code",
      "execution_count": null,
      "metadata": {
        "id": "nRTqUvpG8GGc",
        "scrolled": true
      },
      "outputs": [],
      "source": [
        "length = int(input('공의 높이를 입력하세요(meter) : '))\n",
        "meter, cnt = length, 0\n",
        "while True:\n",
        "    meter /= 2\n",
        "    if meter < 0.00001:\n",
        "        break\n",
        "    cnt += 1\n",
        "\n",
        "print(f'{length} 위치에서 공의 튕긴 횟수는 총 {cnt}번 입니다.')"
      ]
    },
    {
      "cell_type": "markdown",
      "metadata": {
        "id": "bBpYo7he8GGc"
      },
      "source": [
        "#### 실습문제 : 도둑잡기 게임 만들기\n",
        "경찰에 쫓기던 범인이 3개의 방 중에 한 곳에 숨어버렸습니다. 범인은 방문을 열 때마다 무작위로 3개의 방 중 하나의 방으로 이동합니다. 3개의 방 중 하나의 방을 선택했을 때 범인이 있다면 100점, 없을 때 -10점을 부여하고 범인을 잡으면 게임을 종료하는 프로그램을 만들어 보세요."
      ]
    },
    {
      "cell_type": "code",
      "execution_count": null,
      "metadata": {
        "id": "Yjs0Tp0m8GGc"
      },
      "outputs": [],
      "source": [
        "import random\n",
        "score = 0\n",
        "\n",
        "while True:  # 무한반복\n",
        "    # 1.무작위로 범인 방 배치\n",
        "    room = random.randint(1, 3)\n",
        "\n",
        "    # 2.사용자로부터 방 번호 입력 받기\n",
        "    n = int(input('방 번호를 입력하세요(1,2,3): '))\n",
        "\n",
        "    # 3.사용자가 입력한 방 번호와 범인이 있는 방 비교\n",
        "    if n == room:               # 4.범인을 찾으면\n",
        "        print('범인 체포!')     # 범인 체포“라는 메시지 출력\n",
        "        score += 100            # 점수 증가\n",
        "        break                   # 무한반복 빠져 나가기\n",
        "\n",
        "    else:                        # 5.범인을 찾지 못하면\n",
        "        print('범인이 없습니다.' )# “범인을 찾지 못했다“라는 메시지 출력\n",
        "        score -= 10               # 점수 감소\n",
        "\n",
        "print('게임 종료!')        # 게임 종료 메시지 출력\n",
        "print(f'점수: {score} 점') # 최종 점수 출력"
      ]
    },
    {
      "cell_type": "markdown",
      "metadata": {
        "id": "iPCnjI9UkoHr"
      },
      "source": [
        "### 실습문제 :  커피 자동주문 프로그램 업그레이드\n",
        "앞에서 만들어 본 커피 자동주문 머신 프로그램을 while문을 이용하여 돈을 모두 지불할 때까지 돈을 입력 받도록 프로그램 기능 수정하기"
      ]
    },
    {
      "cell_type": "code",
      "execution_count": null,
      "metadata": {
        "id": "HtKho6P3kxtS"
      },
      "outputs": [],
      "source": [
        "menu = '''[커피 자동주문 머신 메뉴]\n",
        "------------------------------\n",
        "-아메리카노는 2500원\n",
        "-카레라떼는 3000원\n",
        "-카푸치노는 3000원\n",
        "입니다. 원하시는 커피종류와 잔수를 입력하세요.\n",
        "------------------------------'''\n",
        "print(menu)\n",
        "coffee1 = int(input(\"아메리카노 몇잔?\"))\n",
        "coffee2 = int(input(\"카페라떼 몇잔?\"))\n",
        "coffee3 = int(input(\"카푸치노 몇잔?\"))\n",
        "\n",
        "total = coffee1*2500 + coffee2*3000 + coffee3*3000\n",
        "print(\"지불할 총 금액은 \", total, \"원 입니다\")\n",
        "\n",
        "money, change = 0, 0\n",
        "while True:\n",
        "    print('-'*30)\n",
        "    money = int(input(f'[지불할 금액:{total}] : 돈을 넣어주세요: '))\n",
        "\n",
        "    change = money - total\n",
        "    if change < 0:\n",
        "        print(\"입력한 금액이 부족합니다. \", change*-1, \"원을 더 넣어주세요.\")\n",
        "        total = total - money\n",
        "    else:\n",
        "        print(\"거스름돈은 \", change, \"원 입니다\")\n",
        "        break\n",
        "\n",
        "print('-'*30)\n",
        "print('커피 맛있게 드세요~~~')"
      ]
    },
    {
      "cell_type": "markdown",
      "metadata": {
        "id": "7GhEbWbZk7E6"
      },
      "source": [
        "### **[난수(Random Number)]**"
      ]
    },
    {
      "cell_type": "markdown",
      "metadata": {
        "id": "AKBc_UvYk7Xj"
      },
      "source": [
        "### 실습문제 : 임의의 두 수 합 구하기\n",
        "1부터 10까지의 범위를 갖는 임의의 두 정수 a, b를 더하여 결과 출력하기"
      ]
    },
    {
      "cell_type": "code",
      "execution_count": null,
      "metadata": {
        "id": "C4ehMBmgk7pP"
      },
      "outputs": [],
      "source": [
        "import random\n",
        "\n",
        "a = random.randint(1, 10)\n",
        "b = random.randint(1, 10)\n",
        "print(f'{a} + {b} = {a + b}')"
      ]
    },
    {
      "cell_type": "markdown",
      "metadata": {
        "id": "cMhO5aWxlOF7"
      },
      "source": [
        "### 실습문제 : 던져 나온 주사위의 눈금별 횟수 카운팅\n",
        "주사위를 100번 던져서 나오는 숫자를 각 숫자별로 카운트하고 가장 많이 나온 숫자와 그 숫자의 횟수를 출력하시오."
      ]
    },
    {
      "cell_type": "code",
      "execution_count": null,
      "metadata": {
        "id": "XUHOX-OzlONF"
      },
      "outputs": [],
      "source": [
        "import random\n",
        "\n",
        "dice=[0,0,0,0,0,0]\n",
        "for i in range(100):\n",
        "    x = random.randint(1,6)\n",
        "    dice[x-1] += 1\n",
        "\n",
        "print(f'숫자별 개수: {dice}')\n",
        "print(f'가장 많이 나온 주사위 숫자: {max(dice)}, 횟수: { dice.index(max(dice)) + 1}')"
      ]
    },
    {
      "cell_type": "markdown",
      "metadata": {
        "id": "FTX-Fvb28GGc"
      },
      "source": [
        "------"
      ]
    },
    {
      "cell_type": "markdown",
      "metadata": {
        "id": "8tdBEUuy8GGe"
      },
      "source": [
        "### 2-3. 함수를 이용하여 알고리즘 만들기"
      ]
    },
    {
      "cell_type": "markdown",
      "metadata": {
        "id": "A50BCkk98GGe"
      },
      "source": [
        "### **[함수 & 모듈]**"
      ]
    },
    {
      "cell_type": "code",
      "execution_count": null,
      "metadata": {
        "id": "3gNw75bI8GGe"
      },
      "outputs": [],
      "source": [
        "def nSum(a, b):\n",
        "    c = a + b\n",
        "    return c\n",
        "\n",
        "nSum(50, 3)"
      ]
    },
    {
      "cell_type": "markdown",
      "metadata": {
        "id": "ZH2oJDOzmgta"
      },
      "source": [
        "####  함수의 구조\n",
        "매개변수와 리턴값에 따른 함수의 유형 예"
      ]
    },
    {
      "cell_type": "markdown",
      "metadata": {
        "id": "ZVu_uCmBmwX9"
      },
      "source": [
        "- 매개변수(X), 리턴값(X)"
      ]
    },
    {
      "cell_type": "code",
      "execution_count": null,
      "metadata": {
        "id": "PhoFdGdpmg2i"
      },
      "outputs": [],
      "source": [
        "def func():\n",
        "    print('안녕하세요!')\n",
        "\n",
        "print( func() )"
      ]
    },
    {
      "cell_type": "markdown",
      "metadata": {
        "id": "rYJvu1mKm1lA"
      },
      "source": [
        "- 매개변수(X), 리턴값(O)"
      ]
    },
    {
      "cell_type": "code",
      "execution_count": null,
      "metadata": {
        "id": "RtmltcdOm1sg"
      },
      "outputs": [],
      "source": [
        "def func():\n",
        "    print('안녕하세요!')\n",
        "    return '처리완료!'\n",
        "\n",
        "print( func() )"
      ]
    },
    {
      "cell_type": "markdown",
      "metadata": {
        "id": "kAiXc3qom1zq"
      },
      "source": [
        "- 매개변수(O), 리턴값(X)"
      ]
    },
    {
      "cell_type": "code",
      "execution_count": null,
      "metadata": {
        "id": "mdneVBp_m16L"
      },
      "outputs": [],
      "source": [
        "def func(a, b):\n",
        "    print('덧셈: %d + %d = %d' % (a, b, a+b))\n",
        "\n",
        "print( func(5, 7) )"
      ]
    },
    {
      "cell_type": "markdown",
      "metadata": {
        "id": "UWx5mc2Bm2Ah"
      },
      "source": [
        "- 매개변수(O), 리턴값(O)"
      ]
    },
    {
      "cell_type": "code",
      "execution_count": null,
      "metadata": {
        "id": "u40Eqnc1m2IB"
      },
      "outputs": [],
      "source": [
        "def func(a, b):\n",
        "    print('덧셈: %d + %d = %d' % (a, b, a+b))\n",
        "    return a+b\n",
        "\n",
        "print( func(5, 7) )"
      ]
    },
    {
      "cell_type": "markdown",
      "metadata": {
        "id": "Oq6XLdiqm9lV"
      },
      "source": [
        "### 실습문제 : 암스트롱수 구하기\n",
        "다음 조건을 참고하여 암스트롱수를 구하는 함수를 만들어 출력하는 프로그램을 만들어 보세요.\n",
        "- **암스트롱수** : 세 자리의 정수 중에서 각 자리의 수를 세 제곱한 수의 합과 자신이 같은 수"
      ]
    },
    {
      "cell_type": "code",
      "execution_count": null,
      "metadata": {
        "id": "DvFLshFqm9t8"
      },
      "outputs": [],
      "source": [
        "def is_armstringNumber(N):\n",
        "    _3, _2, _1 = int(str(N)[0]), int(str(N)[1]),  int(str(N)[2])\n",
        "    if N == (_3**3 + _2**3 + _1**3):\n",
        "        return True\n",
        "    else:\n",
        "        return False\n",
        "\n",
        "\n",
        "for i in range(100, 1000):\n",
        "    if is_armstringNumber(i):\n",
        "        print(\"[%i] is armstrong number\" % i)"
      ]
    },
    {
      "cell_type": "markdown",
      "metadata": {
        "id": "Kvzu_J_a8GGf"
      },
      "source": [
        "#### 실습문제\n",
        "아래 조건을 만족하는 커피 자동주문 머신을 만들어보세요."
      ]
    },
    {
      "cell_type": "code",
      "execution_count": null,
      "metadata": {
        "id": "x1jdgfzq8GGf",
        "outputId": "13498a34-cc94-425e-9408-81b60ebc6ce9",
        "scrolled": true
      },
      "outputs": [
        {
          "name": "stdout",
          "output_type": "stream",
          "text": [
            "[커피 자동주문 머신 메뉴]\n",
            "------------------------------\n",
            "-아메리카노는 2500원\n",
            "-카레라떼는 3000원\n",
            "-카푸치노는 3000원\n",
            "입니다. 원하시는 커피종류와 잔수를 입력하세요.\n",
            "------------------------------\n",
            "아메리카노 몇잔?1\n",
            "카페라떼 몇잔?1\n",
            "카푸치노 몇잔?1\n",
            "지불할 총 금액은  8500 원 입니다\n",
            "돈을 넣어주세요~4000\n",
            "입력한 금액이 부족합니다.  4500 원을 넣어주세요.\n"
          ]
        }
      ],
      "source": [
        "def coffeeMachine(coffee1, coffee2, coffee3):\n",
        "\n",
        "    total = coffee1*2500 + coffee2*3000 + coffee3*3000\n",
        "    print(\"지불할 총 금액은 \", total, \"원 입니다\")\n",
        "\n",
        "    money, change = 0, 0\n",
        "    while True:\n",
        "        print('-'*30)\n",
        "        money = int(input(f'[지불할 금액:{total}] : 돈을 넣어주세요: '))\n",
        "\n",
        "        change = money - total\n",
        "        if change < 0:\n",
        "            print(\"입력한 금액이 부족합니다. \", change*-1, \"원을 더 넣어주세요.\")\n",
        "            total = total - money\n",
        "        else:\n",
        "            print(\"거스름돈은 \", change, \"원 입니다\")\n",
        "            break\n",
        "\n",
        "\n",
        "menu = '''[커피 자동주문 머신 메뉴]\n",
        "------------------------------\n",
        "-아메리카노는 2500원\n",
        "-카레라떼는 3000원\n",
        "-카푸치노는 3000원\n",
        "입니다. 원하시는 커피종류와 잔수를 입력하세요.\n",
        "------------------------------'''\n",
        "print(menu)\n",
        "coffee1 = int(input(\"아메리카노 몇잔?: \"))\n",
        "coffee2 = int(input(\"카페라떼 몇잔?: \"))\n",
        "coffee3 = int(input(\"카푸치노 몇잔?: \"))\n",
        "\n",
        "coffeeMachine(coffee1, coffee2, coffee3)"
      ]
    },
    {
      "cell_type": "markdown",
      "metadata": {
        "id": "Ajjvg18_8GGg"
      },
      "source": [
        "### 2-4. [미션] 응용 프로그램 만들기"
      ]
    },
    {
      "cell_type": "markdown",
      "metadata": {
        "id": "SD7IuCtyEfxZ"
      },
      "source": [
        "\n",
        "\n",
        "---\n",
        "THE END\n",
        "\n"
      ]
    },
    {
      "cell_type": "markdown",
      "metadata": {
        "id": "RQoDVEJ38GGg"
      },
      "source": [
        "------"
      ]
    }
  ],
  "metadata": {
    "colab": {
      "provenance": [],
      "include_colab_link": true
    },
    "kernelspec": {
      "display_name": "Python 3 (ipykernel)",
      "language": "python",
      "name": "python3"
    },
    "language_info": {
      "codemirror_mode": {
        "name": "ipython",
        "version": 3
      },
      "file_extension": ".py",
      "mimetype": "text/x-python",
      "name": "python",
      "nbconvert_exporter": "python",
      "pygments_lexer": "ipython3",
      "version": "3.10.9"
    }
  },
  "nbformat": 4,
  "nbformat_minor": 0
}